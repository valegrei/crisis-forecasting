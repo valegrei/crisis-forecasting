{
 "cells": [
  {
   "cell_type": "code",
   "execution_count": 29,
   "metadata": {},
   "outputs": [],
   "source": [
    "import sys\n",
    "sys.path.append(\"./libs/\")"
   ]
  },
  {
   "cell_type": "code",
   "execution_count": 30,
   "metadata": {},
   "outputs": [],
   "source": [
    "import pandas as pd\n",
    "import numpy as np\n",
    "from sklearn.preprocessing import StandardScaler\n",
    "from utils import shift_data, print_hp,print_line, graficarTodo, split_df, graficarClases, plot_metrics, plot_cm, plot_roc, plot_prc, plot_probs\n",
    "from tensorflow.keras.callbacks import EarlyStopping\n",
    "from tensorflow.keras.initializers import Constant\n",
    "from tensorflow.keras.optimizers import Adam\n",
    "import datetime\n",
    "import os\n",
    "import keras_tuner as kt\n",
    "from keras_tuner import HyperModel\n",
    "import keras.metrics as metrics\n",
    "from keras.models import Sequential, load_model\n",
    "from keras.layers import Dense, Flatten, Dropout\n",
    "from keras.losses import BinaryCrossentropy"
   ]
  },
  {
   "cell_type": "markdown",
   "metadata": {},
   "source": [
    "# Carga de datos"
   ]
  },
  {
   "cell_type": "code",
   "execution_count": 31,
   "metadata": {},
   "outputs": [],
   "source": [
    "df = pd.read_csv('./data/USA_DATA_DIFF.csv')\n",
    "df['DATE'] = pd.to_datetime(df['DATE'])\n",
    "df = df.set_index('DATE')"
   ]
  },
  {
   "cell_type": "code",
   "execution_count": 32,
   "metadata": {},
   "outputs": [
    {
     "name": "stdout",
     "output_type": "stream",
     "text": [
      "<class 'pandas.core.frame.DataFrame'>\n",
      "DatetimeIndex: 552 entries, 1976-12-01 to 2022-11-01\n",
      "Data columns (total 6 columns):\n",
      " #   Column     Non-Null Count  Dtype  \n",
      "---  ------     --------------  -----  \n",
      " 0   INDPRO     552 non-null    float64\n",
      " 1   PAYEMS     552 non-null    float64\n",
      " 2   UNRATENSA  552 non-null    float64\n",
      " 3   MPRIME     552 non-null    float64\n",
      " 4   TOTALSA    552 non-null    float64\n",
      " 5   Class      552 non-null    int64  \n",
      "dtypes: float64(5), int64(1)\n",
      "memory usage: 30.2 KB\n"
     ]
    }
   ],
   "source": [
    "df.info()"
   ]
  },
  {
   "cell_type": "code",
   "execution_count": 33,
   "metadata": {},
   "outputs": [
    {
     "data": {
      "text/html": [
       "<div>\n",
       "<style scoped>\n",
       "    .dataframe tbody tr th:only-of-type {\n",
       "        vertical-align: middle;\n",
       "    }\n",
       "\n",
       "    .dataframe tbody tr th {\n",
       "        vertical-align: top;\n",
       "    }\n",
       "\n",
       "    .dataframe thead th {\n",
       "        text-align: right;\n",
       "    }\n",
       "</style>\n",
       "<table border=\"1\" class=\"dataframe\">\n",
       "  <thead>\n",
       "    <tr style=\"text-align: right;\">\n",
       "      <th></th>\n",
       "      <th>INDPRO</th>\n",
       "      <th>PAYEMS</th>\n",
       "      <th>UNRATENSA</th>\n",
       "      <th>MPRIME</th>\n",
       "      <th>TOTALSA</th>\n",
       "      <th>Class</th>\n",
       "    </tr>\n",
       "  </thead>\n",
       "  <tbody>\n",
       "    <tr>\n",
       "      <th>count</th>\n",
       "      <td>552.000000</td>\n",
       "      <td>552.000000</td>\n",
       "      <td>552.000000</td>\n",
       "      <td>552.000000</td>\n",
       "      <td>5.520000e+02</td>\n",
       "      <td>552.000000</td>\n",
       "    </tr>\n",
       "    <tr>\n",
       "      <th>mean</th>\n",
       "      <td>0.001504</td>\n",
       "      <td>0.001188</td>\n",
       "      <td>0.001758</td>\n",
       "      <td>-0.000092</td>\n",
       "      <td>-6.503275e-07</td>\n",
       "      <td>0.115942</td>\n",
       "    </tr>\n",
       "    <tr>\n",
       "      <th>std</th>\n",
       "      <td>0.003272</td>\n",
       "      <td>0.001763</td>\n",
       "      <td>0.017313</td>\n",
       "      <td>0.018738</td>\n",
       "      <td>8.059840e-03</td>\n",
       "      <td>0.320446</td>\n",
       "    </tr>\n",
       "    <tr>\n",
       "      <th>min</th>\n",
       "      <td>-0.012309</td>\n",
       "      <td>-0.006452</td>\n",
       "      <td>-0.096487</td>\n",
       "      <td>-0.051722</td>\n",
       "      <td>-3.474568e-02</td>\n",
       "      <td>0.000000</td>\n",
       "    </tr>\n",
       "    <tr>\n",
       "      <th>25%</th>\n",
       "      <td>0.000322</td>\n",
       "      <td>0.000509</td>\n",
       "      <td>-0.003765</td>\n",
       "      <td>-0.009446</td>\n",
       "      <td>-3.181993e-03</td>\n",
       "      <td>0.000000</td>\n",
       "    </tr>\n",
       "    <tr>\n",
       "      <th>50%</th>\n",
       "      <td>0.002075</td>\n",
       "      <td>0.001442</td>\n",
       "      <td>0.005265</td>\n",
       "      <td>0.000082</td>\n",
       "      <td>7.457537e-04</td>\n",
       "      <td>0.000000</td>\n",
       "    </tr>\n",
       "    <tr>\n",
       "      <th>75%</th>\n",
       "      <td>0.003471</td>\n",
       "      <td>0.002111</td>\n",
       "      <td>0.009246</td>\n",
       "      <td>0.013065</td>\n",
       "      <td>5.037476e-03</td>\n",
       "      <td>0.000000</td>\n",
       "    </tr>\n",
       "    <tr>\n",
       "      <th>max</th>\n",
       "      <td>0.008630</td>\n",
       "      <td>0.004349</td>\n",
       "      <td>0.054615</td>\n",
       "      <td>0.048879</td>\n",
       "      <td>1.919342e-02</td>\n",
       "      <td>1.000000</td>\n",
       "    </tr>\n",
       "  </tbody>\n",
       "</table>\n",
       "</div>"
      ],
      "text/plain": [
       "           INDPRO      PAYEMS   UNRATENSA      MPRIME       TOTALSA  \\\n",
       "count  552.000000  552.000000  552.000000  552.000000  5.520000e+02   \n",
       "mean     0.001504    0.001188    0.001758   -0.000092 -6.503275e-07   \n",
       "std      0.003272    0.001763    0.017313    0.018738  8.059840e-03   \n",
       "min     -0.012309   -0.006452   -0.096487   -0.051722 -3.474568e-02   \n",
       "25%      0.000322    0.000509   -0.003765   -0.009446 -3.181993e-03   \n",
       "50%      0.002075    0.001442    0.005265    0.000082  7.457537e-04   \n",
       "75%      0.003471    0.002111    0.009246    0.013065  5.037476e-03   \n",
       "max      0.008630    0.004349    0.054615    0.048879  1.919342e-02   \n",
       "\n",
       "            Class  \n",
       "count  552.000000  \n",
       "mean     0.115942  \n",
       "std      0.320446  \n",
       "min      0.000000  \n",
       "25%      0.000000  \n",
       "50%      0.000000  \n",
       "75%      0.000000  \n",
       "max      1.000000  "
      ]
     },
     "execution_count": 33,
     "metadata": {},
     "output_type": "execute_result"
    }
   ],
   "source": [
    "df.describe()"
   ]
  },
  {
   "cell_type": "code",
   "execution_count": 34,
   "metadata": {},
   "outputs": [
    {
     "data": {
      "image/png": "[encoded data removed]",
      "text/plain": [
       "<Figure size 864x432 with 1 Axes>"
      ]
     },
     "metadata": {
      "needs_background": "light"
     },
     "output_type": "display_data"
    }
   ],
   "source": [
    "graficarTodo(df,'Features')"
   ]
  },
  {
   "cell_type": "markdown",
   "metadata": {},
   "source": [
    "# Dividir Datos"
   ]
  },
  {
   "cell_type": "code",
   "execution_count": 35,
   "metadata": {},
   "outputs": [],
   "source": [
    "target_col = ['Class']\n",
    "features = df.columns[(df.columns!=target_col[0])]\n",
    "df_train, df_test = split_df(df,0.2)"
   ]
  },
  {
   "cell_type": "markdown",
   "metadata": {},
   "source": [
    "# Normalizar"
   ]
  },
  {
   "cell_type": "code",
   "execution_count": 36,
   "metadata": {},
   "outputs": [],
   "source": [
    "df_x_train = df_train[features].copy()\n",
    "df_y_train = df_train[target_col].copy()\n",
    "df_x_test = df_test[features].copy()\n",
    "df_y_test = df_test[target_col].copy()\n",
    "\n",
    "scaler = StandardScaler()\n",
    "\n",
    "df_x_train.iloc[:,:] = scaler.fit_transform(df_x_train)\n",
    "df_x_test.iloc[:,:] = scaler.transform(df_x_test)\n",
    "\n",
    "df_x_train.iloc[:,:] = np.clip(df_x_train,-5,5)\n",
    "df_x_test.iloc[:,:] = np.clip(df_x_test,-5,5)"
   ]
  },
  {
   "attachments": {},
   "cell_type": "markdown",
   "metadata": {},
   "source": [
    "# Construccion"
   ]
  },
  {
   "cell_type": "code",
   "execution_count": 37,
   "metadata": {},
   "outputs": [],
   "source": [
    "n_features = len(features)"
   ]
  },
  {
   "cell_type": "code",
   "execution_count": 38,
   "metadata": {},
   "outputs": [],
   "source": [
    "res_eeuu_1 = {\n",
    "    'MLP_EEUU':['./modelamiento/modelos/MLP_USA_1_20221231_0011_2.h5', 16],\n",
    "    'CNN_EEUU':['./modelamiento/modelos/CNN_USA_1_20221230_2048_18.h5', 7],\n",
    "    'LSTM_EEUU':['./modelamiento/modelos/LSTM_USA_1_20221230_1841_0.h5', 6],\n",
    "    'GRU_EEUU':['./modelamiento/modelos/GRU_USA_1_20221230_1945_0.h5', 6],\n",
    "}\n",
    "res_eeuu_6 = {\n",
    "    'MLP_EEUU':['./modelamiento/modelos/MLP_USA_6_20221231_0011_5.h5', 15],\n",
    "    'CNN_EEUU':['./modelamiento/modelos/CNN_USA_6_20221230_2048_5.h5', 15],\n",
    "    'LSTM_EEUU':['./modelamiento/modelos/LSTM_USA_6_20221230_1841_12.h5', 6],\n",
    "    'GRU_EEUU':['./modelamiento/modelos/GRU_USA_6_20221230_1945_18.h5', 5],\n",
    "}\n",
    "res_eeuu_12 = {\n",
    "    'MLP_EEUU':['./modelamiento/modelos/MLP_USA_12_20221231_0011_6.h5', 13],\n",
    "    'CNN_EEUU':['./modelamiento/modelos/CNN_USA_12_20221230_2048_15.h5', 23],\n",
    "    'LSTM_EEUU':['./modelamiento/modelos/LSTM_USA_12_20221230_1841_16.h5', 6],\n",
    "    'GRU_EEUU':['./modelamiento/modelos/GRU_USA_12_20221230_1945_19.h5', 7],\n",
    "}"
   ]
  },
  {
   "attachments": {},
   "cell_type": "markdown",
   "metadata": {},
   "source": [
    "# Evaluar"
   ]
  },
  {
   "cell_type": "code",
   "execution_count": 39,
   "metadata": {},
   "outputs": [],
   "source": [
    "def predecir(models: dict, n_steps_out):\n",
    "    df_res = df_y_test.copy()\n",
    "    df_res = df_res.shift(-n_steps_out)\n",
    "    df_val = pd.DataFrame()\n",
    "\n",
    "    for key in models.keys():\n",
    "        n_steps_in = models[key][1]\n",
    "        model = load_model(models[key][0])\n",
    "        #x_train, y_train = shift_data(df_x_train, df_y_train, n_steps_in, n_steps_out)\n",
    "        x_test, y_test, indexes = shift_data(df_x_test, df_y_test, n_steps_in, n_steps_out)\n",
    "        y_pred = model(x_test)\n",
    "        df = pd.DataFrame()\n",
    "        df['DATE'] = indexes\n",
    "        df['DATE'] = pd.to_datetime(df['DATE'])\n",
    "        df[key] = y_pred\n",
    "        df = df.set_index('DATE')\n",
    "        df_res = pd.concat([df_res, df[key]], axis=1)\n",
    "    \n",
    "        res = model.evaluate(x_test, y_test, verbose=0)\n",
    "        df_val_n = pd.DataFrame({\n",
    "            'tp': [res[1]],\n",
    "            'fp': [res[2]],\n",
    "            'tn': [res[3]],\n",
    "            'fn': [res[4]],\n",
    "            'accuracy': [res[5]],\n",
    "            'precision': [res[6]],\n",
    "            'recall': [res[7]],\n",
    "            'auc': [res[8]],\n",
    "            'prc': [res[9]],\n",
    "        }, index = [key])\n",
    "        df_val = pd.concat([df_val, df_val_n])\n",
    "\n",
    "    return df_res, df_val"
   ]
  },
  {
   "cell_type": "code",
   "execution_count": 44,
   "metadata": {},
   "outputs": [
    {
     "name": "stdout",
     "output_type": "stream",
     "text": [
      "WARNING:tensorflow:5 out of the last 13 calls to <function Model.make_test_function.<locals>.test_function at 0x000001F283EA4700> triggered tf.function retracing. Tracing is expensive and the excessive number of tracings could be due to (1) creating @tf.function repeatedly in a loop, (2) passing tensors with different shapes, (3) passing Python objects instead of tensors. For (1), please define your @tf.function outside of the loop. For (2), @tf.function has experimental_relax_shapes=True option that relaxes argument shapes that can avoid unnecessary retracing. For (3), please refer to https://www.tensorflow.org/guide/function#controlling_retracing and https://www.tensorflow.org/api_docs/python/tf/function for  more details.\n"
     ]
    },
    {
     "data": {
      "text/html": [
       "<div>\n",
       "<style scoped>\n",
       "    .dataframe tbody tr th:only-of-type {\n",
       "        vertical-align: middle;\n",
       "    }\n",
       "\n",
       "    .dataframe tbody tr th {\n",
       "        vertical-align: top;\n",
       "    }\n",
       "\n",
       "    .dataframe thead th {\n",
       "        text-align: right;\n",
       "    }\n",
       "</style>\n",
       "<table border=\"1\" class=\"dataframe\">\n",
       "  <thead>\n",
       "    <tr style=\"text-align: right;\">\n",
       "      <th></th>\n",
       "      <th>tp</th>\n",
       "      <th>fp</th>\n",
       "      <th>tn</th>\n",
       "      <th>fn</th>\n",
       "      <th>accuracy</th>\n",
       "      <th>precision</th>\n",
       "      <th>recall</th>\n",
       "      <th>auc</th>\n",
       "      <th>prc</th>\n",
       "    </tr>\n",
       "  </thead>\n",
       "  <tbody>\n",
       "    <tr>\n",
       "      <th>MLP_EEUU</th>\n",
       "      <td>3.0</td>\n",
       "      <td>11.0</td>\n",
       "      <td>80.0</td>\n",
       "      <td>0.0</td>\n",
       "      <td>0.882979</td>\n",
       "      <td>0.214286</td>\n",
       "      <td>1.0</td>\n",
       "      <td>0.961538</td>\n",
       "      <td>0.300000</td>\n",
       "    </tr>\n",
       "    <tr>\n",
       "      <th>CNN_EEUU</th>\n",
       "      <td>3.0</td>\n",
       "      <td>14.0</td>\n",
       "      <td>86.0</td>\n",
       "      <td>0.0</td>\n",
       "      <td>0.864078</td>\n",
       "      <td>0.176471</td>\n",
       "      <td>1.0</td>\n",
       "      <td>0.980000</td>\n",
       "      <td>0.428571</td>\n",
       "    </tr>\n",
       "    <tr>\n",
       "      <th>LSTM_EEUU</th>\n",
       "      <td>3.0</td>\n",
       "      <td>13.0</td>\n",
       "      <td>88.0</td>\n",
       "      <td>0.0</td>\n",
       "      <td>0.875000</td>\n",
       "      <td>0.187500</td>\n",
       "      <td>1.0</td>\n",
       "      <td>0.990099</td>\n",
       "      <td>0.600000</td>\n",
       "    </tr>\n",
       "    <tr>\n",
       "      <th>GRU_EEUU</th>\n",
       "      <td>3.0</td>\n",
       "      <td>11.0</td>\n",
       "      <td>90.0</td>\n",
       "      <td>0.0</td>\n",
       "      <td>0.894231</td>\n",
       "      <td>0.214286</td>\n",
       "      <td>1.0</td>\n",
       "      <td>0.980198</td>\n",
       "      <td>0.428571</td>\n",
       "    </tr>\n",
       "  </tbody>\n",
       "</table>\n",
       "</div>"
      ],
      "text/plain": [
       "            tp    fp    tn   fn  accuracy  precision  recall       auc  \\\n",
       "MLP_EEUU   3.0  11.0  80.0  0.0  0.882979   0.214286     1.0  0.961538   \n",
       "CNN_EEUU   3.0  14.0  86.0  0.0  0.864078   0.176471     1.0  0.980000   \n",
       "LSTM_EEUU  3.0  13.0  88.0  0.0  0.875000   0.187500     1.0  0.990099   \n",
       "GRU_EEUU   3.0  11.0  90.0  0.0  0.894231   0.214286     1.0  0.980198   \n",
       "\n",
       "                prc  \n",
       "MLP_EEUU   0.300000  \n",
       "CNN_EEUU   0.428571  \n",
       "LSTM_EEUU  0.600000  \n",
       "GRU_EEUU   0.428571  "
      ]
     },
     "execution_count": 44,
     "metadata": {},
     "output_type": "execute_result"
    }
   ],
   "source": [
    "df_1, df_1_val = predecir(res_eeuu_1,1)\n",
    "#graficarTodo(df_1,\"Predicción de Recesión con 1 mes de anticipación\")\n",
    "df_1_val"
   ]
  },
  {
   "cell_type": "code",
   "execution_count": 41,
   "metadata": {},
   "outputs": [
    {
     "data": {
      "text/html": [
       "<div>\n",
       "<style scoped>\n",
       "    .dataframe tbody tr th:only-of-type {\n",
       "        vertical-align: middle;\n",
       "    }\n",
       "\n",
       "    .dataframe tbody tr th {\n",
       "        vertical-align: top;\n",
       "    }\n",
       "\n",
       "    .dataframe thead th {\n",
       "        text-align: right;\n",
       "    }\n",
       "</style>\n",
       "<table border=\"1\" class=\"dataframe\">\n",
       "  <thead>\n",
       "    <tr style=\"text-align: right;\">\n",
       "      <th></th>\n",
       "      <th>tp</th>\n",
       "      <th>fp</th>\n",
       "      <th>tn</th>\n",
       "      <th>fn</th>\n",
       "      <th>accuracy</th>\n",
       "      <th>precision</th>\n",
       "      <th>recall</th>\n",
       "      <th>auc</th>\n",
       "      <th>prc</th>\n",
       "    </tr>\n",
       "  </thead>\n",
       "  <tbody>\n",
       "    <tr>\n",
       "      <th>MLP_EEUU</th>\n",
       "      <td>3.0</td>\n",
       "      <td>10.0</td>\n",
       "      <td>77.0</td>\n",
       "      <td>0.0</td>\n",
       "      <td>0.888889</td>\n",
       "      <td>0.230769</td>\n",
       "      <td>1.0</td>\n",
       "      <td>0.971264</td>\n",
       "      <td>0.375000</td>\n",
       "    </tr>\n",
       "    <tr>\n",
       "      <th>CNN_EEUU</th>\n",
       "      <td>3.0</td>\n",
       "      <td>9.0</td>\n",
       "      <td>78.0</td>\n",
       "      <td>0.0</td>\n",
       "      <td>0.900000</td>\n",
       "      <td>0.250000</td>\n",
       "      <td>1.0</td>\n",
       "      <td>0.977012</td>\n",
       "      <td>0.428571</td>\n",
       "    </tr>\n",
       "    <tr>\n",
       "      <th>LSTM_EEUU</th>\n",
       "      <td>3.0</td>\n",
       "      <td>22.0</td>\n",
       "      <td>74.0</td>\n",
       "      <td>0.0</td>\n",
       "      <td>0.777778</td>\n",
       "      <td>0.120000</td>\n",
       "      <td>1.0</td>\n",
       "      <td>0.961806</td>\n",
       "      <td>0.280190</td>\n",
       "    </tr>\n",
       "    <tr>\n",
       "      <th>GRU_EEUU</th>\n",
       "      <td>3.0</td>\n",
       "      <td>9.0</td>\n",
       "      <td>88.0</td>\n",
       "      <td>0.0</td>\n",
       "      <td>0.910000</td>\n",
       "      <td>0.250000</td>\n",
       "      <td>1.0</td>\n",
       "      <td>0.994845</td>\n",
       "      <td>0.828990</td>\n",
       "    </tr>\n",
       "  </tbody>\n",
       "</table>\n",
       "</div>"
      ],
      "text/plain": [
       "            tp    fp    tn   fn  accuracy  precision  recall       auc  \\\n",
       "MLP_EEUU   3.0  10.0  77.0  0.0  0.888889   0.230769     1.0  0.971264   \n",
       "CNN_EEUU   3.0   9.0  78.0  0.0  0.900000   0.250000     1.0  0.977012   \n",
       "LSTM_EEUU  3.0  22.0  74.0  0.0  0.777778   0.120000     1.0  0.961806   \n",
       "GRU_EEUU   3.0   9.0  88.0  0.0  0.910000   0.250000     1.0  0.994845   \n",
       "\n",
       "                prc  \n",
       "MLP_EEUU   0.375000  \n",
       "CNN_EEUU   0.428571  \n",
       "LSTM_EEUU  0.280190  \n",
       "GRU_EEUU   0.828990  "
      ]
     },
     "execution_count": 41,
     "metadata": {},
     "output_type": "execute_result"
    }
   ],
   "source": [
    "df_6,df_6_val = predecir(res_eeuu_6,6)\n",
    "#graficarTodo(df_6,\"Predicción de Recesión con 6 meses de anticipación\")\n",
    "df_6_val"
   ]
  },
  {
   "cell_type": "code",
   "execution_count": 42,
   "metadata": {},
   "outputs": [
    {
     "name": "stdout",
     "output_type": "stream",
     "text": [
      "WARNING:tensorflow:5 out of the last 14 calls to <function Model.make_test_function.<locals>.test_function at 0x000001F28431B5E0> triggered tf.function retracing. Tracing is expensive and the excessive number of tracings could be due to (1) creating @tf.function repeatedly in a loop, (2) passing tensors with different shapes, (3) passing Python objects instead of tensors. For (1), please define your @tf.function outside of the loop. For (2), @tf.function has experimental_relax_shapes=True option that relaxes argument shapes that can avoid unnecessary retracing. For (3), please refer to https://www.tensorflow.org/guide/function#controlling_retracing and https://www.tensorflow.org/api_docs/python/tf/function for  more details.\n"
     ]
    },
    {
     "data": {
      "text/html": [
       "<div>\n",
       "<style scoped>\n",
       "    .dataframe tbody tr th:only-of-type {\n",
       "        vertical-align: middle;\n",
       "    }\n",
       "\n",
       "    .dataframe tbody tr th {\n",
       "        vertical-align: top;\n",
       "    }\n",
       "\n",
       "    .dataframe thead th {\n",
       "        text-align: right;\n",
       "    }\n",
       "</style>\n",
       "<table border=\"1\" class=\"dataframe\">\n",
       "  <thead>\n",
       "    <tr style=\"text-align: right;\">\n",
       "      <th></th>\n",
       "      <th>tp</th>\n",
       "      <th>fp</th>\n",
       "      <th>tn</th>\n",
       "      <th>fn</th>\n",
       "      <th>accuracy</th>\n",
       "      <th>precision</th>\n",
       "      <th>recall</th>\n",
       "      <th>auc</th>\n",
       "      <th>prc</th>\n",
       "    </tr>\n",
       "  </thead>\n",
       "  <tbody>\n",
       "    <tr>\n",
       "      <th>MLP_EEUU</th>\n",
       "      <td>3.0</td>\n",
       "      <td>23.0</td>\n",
       "      <td>60.0</td>\n",
       "      <td>0.0</td>\n",
       "      <td>0.732558</td>\n",
       "      <td>0.115385</td>\n",
       "      <td>1.000000</td>\n",
       "      <td>0.891566</td>\n",
       "      <td>0.136954</td>\n",
       "    </tr>\n",
       "    <tr>\n",
       "      <th>CNN_EEUU</th>\n",
       "      <td>2.0</td>\n",
       "      <td>26.0</td>\n",
       "      <td>47.0</td>\n",
       "      <td>1.0</td>\n",
       "      <td>0.644737</td>\n",
       "      <td>0.071429</td>\n",
       "      <td>0.666667</td>\n",
       "      <td>0.780822</td>\n",
       "      <td>0.082133</td>\n",
       "    </tr>\n",
       "    <tr>\n",
       "      <th>LSTM_EEUU</th>\n",
       "      <td>0.0</td>\n",
       "      <td>8.0</td>\n",
       "      <td>82.0</td>\n",
       "      <td>3.0</td>\n",
       "      <td>0.881720</td>\n",
       "      <td>0.000000</td>\n",
       "      <td>0.000000</td>\n",
       "      <td>0.475926</td>\n",
       "      <td>0.029402</td>\n",
       "    </tr>\n",
       "    <tr>\n",
       "      <th>GRU_EEUU</th>\n",
       "      <td>3.0</td>\n",
       "      <td>37.0</td>\n",
       "      <td>52.0</td>\n",
       "      <td>0.0</td>\n",
       "      <td>0.597826</td>\n",
       "      <td>0.075000</td>\n",
       "      <td>1.000000</td>\n",
       "      <td>0.698502</td>\n",
       "      <td>0.048641</td>\n",
       "    </tr>\n",
       "  </tbody>\n",
       "</table>\n",
       "</div>"
      ],
      "text/plain": [
       "            tp    fp    tn   fn  accuracy  precision    recall       auc  \\\n",
       "MLP_EEUU   3.0  23.0  60.0  0.0  0.732558   0.115385  1.000000  0.891566   \n",
       "CNN_EEUU   2.0  26.0  47.0  1.0  0.644737   0.071429  0.666667  0.780822   \n",
       "LSTM_EEUU  0.0   8.0  82.0  3.0  0.881720   0.000000  0.000000  0.475926   \n",
       "GRU_EEUU   3.0  37.0  52.0  0.0  0.597826   0.075000  1.000000  0.698502   \n",
       "\n",
       "                prc  \n",
       "MLP_EEUU   0.136954  \n",
       "CNN_EEUU   0.082133  \n",
       "LSTM_EEUU  0.029402  \n",
       "GRU_EEUU   0.048641  "
      ]
     },
     "execution_count": 42,
     "metadata": {},
     "output_type": "execute_result"
    }
   ],
   "source": [
    "df_12, df_12_val = predecir(res_eeuu_12,12)\n",
    "#graficarTodo(df_12,\"Predicción de Recesión con 12 meses de anticipación\")\n",
    "df_12_val"
   ]
  }
 ],
 "metadata": {
  "kernelspec": {
   "display_name": "base",
   "language": "python",
   "name": "python3"
  },
  "language_info": {
   "codemirror_mode": {
    "name": "ipython",
    "version": 3
   },
   "file_extension": ".py",
   "mimetype": "text/x-python",
   "name": "python",
   "nbconvert_exporter": "python",
   "pygments_lexer": "ipython3",
   "version": "3.8.13 (default, Mar 28 2022, 06:59:08) [MSC v.1916 64 bit (AMD64)]"
  },
  "orig_nbformat": 4,
  "vscode": {
   "interpreter": {
    "hash": "e6822839c80bb80c42f7f9e096efdd447a89633a8e8a553b5cfb2012f3a4eafe"
   }
  }
 },
 "nbformat": 4,
 "nbformat_minor": 2
}
