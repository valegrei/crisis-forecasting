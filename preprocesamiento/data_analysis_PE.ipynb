{
 "cells": [
  {
   "cell_type": "code",
   "execution_count": 101,
   "metadata": {},
   "outputs": [],
   "source": [
    "import pandas as pd\n",
    "import numpy as np\n",
    "import matplotlib.pyplot as plt\n",
    "from statsmodels.graphics.tsaplots import plot_acf\n",
    "from statsmodels.tsa.seasonal import STL"
   ]
  },
  {
   "cell_type": "code",
   "execution_count": 102,
   "metadata": {},
   "outputs": [],
   "source": [
    "def graficar(s: pd.Series, t, resc = None, linea_cero=False):\n",
    "    fig, ax = plt.subplots(figsize=[8,4])\n",
    "    s.plot(ax=ax)\n",
    "    ax.set_title(t)\n",
    "    if resc is not None:        \n",
    "        y1, y2 = ax.get_ylim()\n",
    "        resc1 = resc == 1\n",
    "        ax.fill_between(resc1.index, y1=y1, y2=y2, where=resc1, facecolor='grey', alpha=0.4)\n",
    "    if linea_cero:\n",
    "        ax.axhline(y=0,color='grey',linestyle='--')\n",
    "\n",
    "def graficar2(s1: pd.Series, t1,s2: pd.Series, t2, linea_cero=False):\n",
    "    fig, ax = plt.subplots(1,2,figsize=[10,4])\n",
    "    s1.plot(ax=ax[0])\n",
    "    s2.plot(ax=ax[1])\n",
    "    ax[0].set_title(t1)\n",
    "    ax[1].set_title(t2)\n",
    "    if linea_cero:\n",
    "        ax[0].axhline(y=0,color='grey',linestyle='--')\n",
    "        ax[1].axhline(y=0,color='grey',linestyle='--')\n",
    "\n",
    "def graficar_multiple(df):\n",
    "    for col in df.columns:\n",
    "        if col == 'Class':\n",
    "            graficar(df[col], col)\n",
    "            continue\n",
    "        graficar(df[col],col,resc=df['Class'])"
   ]
  },
  {
   "attachments": {},
   "cell_type": "markdown",
   "metadata": {},
   "source": [
    "# Carga de datos\n",
    "Se extrayeron los datos de [Federal Reserve Bank of St. Louis](https://fred.stlouisfed.org/tags/series?t=monthly)"
   ]
  },
  {
   "cell_type": "markdown",
   "metadata": {},
   "source": [
    "Indicadores Macroeconómicos"
   ]
  },
  {
   "cell_type": "code",
   "execution_count": 103,
   "metadata": {},
   "outputs": [
    {
     "data": {
      "text/html": [
       "<div>\n",
       "<style scoped>\n",
       "    .dataframe tbody tr th:only-of-type {\n",
       "        vertical-align: middle;\n",
       "    }\n",
       "\n",
       "    .dataframe tbody tr th {\n",
       "        vertical-align: top;\n",
       "    }\n",
       "\n",
       "    .dataframe thead th {\n",
       "        text-align: right;\n",
       "    }\n",
       "</style>\n",
       "<table border=\"1\" class=\"dataframe\">\n",
       "  <thead>\n",
       "    <tr style=\"text-align: right;\">\n",
       "      <th></th>\n",
       "      <th>PN02312FM</th>\n",
       "      <th>PN38705PM</th>\n",
       "      <th>PN02028AM</th>\n",
       "      <th>PD37972BM</th>\n",
       "      <th>PD37974BM</th>\n",
       "      <th>PD37976BM</th>\n",
       "      <th>Class</th>\n",
       "    </tr>\n",
       "    <tr>\n",
       "      <th>DATE</th>\n",
       "      <th></th>\n",
       "      <th></th>\n",
       "      <th></th>\n",
       "      <th></th>\n",
       "      <th></th>\n",
       "      <th></th>\n",
       "      <th></th>\n",
       "    </tr>\n",
       "  </thead>\n",
       "  <tbody>\n",
       "    <tr>\n",
       "      <th>1995-02-01</th>\n",
       "      <td>1272.226473</td>\n",
       "      <td>38.433894</td>\n",
       "      <td>55.767947</td>\n",
       "      <td>31.035781</td>\n",
       "      <td>59.493583</td>\n",
       "      <td>42.826815</td>\n",
       "      <td>0</td>\n",
       "    </tr>\n",
       "    <tr>\n",
       "      <th>1995-03-01</th>\n",
       "      <td>1495.857345</td>\n",
       "      <td>38.961215</td>\n",
       "      <td>59.344344</td>\n",
       "      <td>30.136709</td>\n",
       "      <td>70.994501</td>\n",
       "      <td>52.061686</td>\n",
       "      <td>0</td>\n",
       "    </tr>\n",
       "    <tr>\n",
       "      <th>1995-04-01</th>\n",
       "      <td>1650.980245</td>\n",
       "      <td>39.344815</td>\n",
       "      <td>52.743337</td>\n",
       "      <td>29.452419</td>\n",
       "      <td>70.873138</td>\n",
       "      <td>45.182163</td>\n",
       "      <td>0</td>\n",
       "    </tr>\n",
       "    <tr>\n",
       "      <th>1995-05-01</th>\n",
       "      <td>1567.141857</td>\n",
       "      <td>39.673230</td>\n",
       "      <td>63.550977</td>\n",
       "      <td>30.898029</td>\n",
       "      <td>72.091964</td>\n",
       "      <td>51.892059</td>\n",
       "      <td>0</td>\n",
       "    </tr>\n",
       "    <tr>\n",
       "      <th>1995-06-01</th>\n",
       "      <td>1452.243775</td>\n",
       "      <td>39.994072</td>\n",
       "      <td>62.733200</td>\n",
       "      <td>32.893440</td>\n",
       "      <td>69.770364</td>\n",
       "      <td>47.712314</td>\n",
       "      <td>0</td>\n",
       "    </tr>\n",
       "  </tbody>\n",
       "</table>\n",
       "</div>"
      ],
      "text/plain": [
       "              PN02312FM  PN38705PM  PN02028AM  PD37972BM  PD37974BM  \\\n",
       "DATE                                                                  \n",
       "1995-02-01  1272.226473  38.433894  55.767947  31.035781  59.493583   \n",
       "1995-03-01  1495.857345  38.961215  59.344344  30.136709  70.994501   \n",
       "1995-04-01  1650.980245  39.344815  52.743337  29.452419  70.873138   \n",
       "1995-05-01  1567.141857  39.673230  63.550977  30.898029  72.091964   \n",
       "1995-06-01  1452.243775  39.994072  62.733200  32.893440  69.770364   \n",
       "\n",
       "            PD37976BM  Class  \n",
       "DATE                          \n",
       "1995-02-01  42.826815      0  \n",
       "1995-03-01  52.061686      0  \n",
       "1995-04-01  45.182163      0  \n",
       "1995-05-01  51.892059      0  \n",
       "1995-06-01  47.712314      0  "
      ]
     },
     "execution_count": 103,
     "metadata": {},
     "output_type": "execute_result"
    }
   ],
   "source": [
    "df = pd.read_csv('../data/PERU_DATA.csv')\n",
    "df['DATE'] = pd.to_datetime(df['DATE'])\n",
    "df = df.set_index('DATE')\n",
    "df['Recesion'] = df['Recesion'].astype('int')\n",
    "df = df.rename(columns={'Recesion':'Class'})\n",
    "df.head()"
   ]
  },
  {
   "cell_type": "markdown",
   "metadata": {},
   "source": [
    "# Descripción"
   ]
  },
  {
   "cell_type": "markdown",
   "metadata": {},
   "source": [
    "Características de dataset de macroeconomia"
   ]
  },
  {
   "cell_type": "code",
   "execution_count": 104,
   "metadata": {},
   "outputs": [
    {
     "name": "stdout",
     "output_type": "stream",
     "text": [
      "<class 'pandas.core.frame.DataFrame'>\n",
      "DatetimeIndex: 332 entries, 1995-02-01 to 2022-09-01\n",
      "Data columns (total 7 columns):\n",
      " #   Column     Non-Null Count  Dtype  \n",
      "---  ------     --------------  -----  \n",
      " 0   PN02312FM  332 non-null    float64\n",
      " 1   PN38705PM  332 non-null    float64\n",
      " 2   PN02028AM  332 non-null    float64\n",
      " 3   PD37972BM  332 non-null    float64\n",
      " 4   PD37974BM  332 non-null    float64\n",
      " 5   PD37976BM  332 non-null    float64\n",
      " 6   Class      332 non-null    int32  \n",
      "dtypes: float64(6), int32(1)\n",
      "memory usage: 19.5 KB\n"
     ]
    }
   ],
   "source": [
    "df.info()"
   ]
  },
  {
   "attachments": {},
   "cell_type": "markdown",
   "metadata": {},
   "source": [
    "Metadatos del dataset"
   ]
  },
  {
   "cell_type": "code",
   "execution_count": 105,
   "metadata": {},
   "outputs": [
    {
     "data": {
      "text/html": [
       "<div>\n",
       "<style scoped>\n",
       "    .dataframe tbody tr th:only-of-type {\n",
       "        vertical-align: middle;\n",
       "    }\n",
       "\n",
       "    .dataframe tbody tr th {\n",
       "        vertical-align: top;\n",
       "    }\n",
       "\n",
       "    .dataframe thead th {\n",
       "        text-align: right;\n",
       "    }\n",
       "</style>\n",
       "<table border=\"1\" class=\"dataframe\">\n",
       "  <thead>\n",
       "    <tr style=\"text-align: right;\">\n",
       "      <th></th>\n",
       "      <th>Feature</th>\n",
       "      <th>Description</th>\n",
       "    </tr>\n",
       "  </thead>\n",
       "  <tbody>\n",
       "    <tr>\n",
       "      <th>0</th>\n",
       "      <td>PN02312FM</td>\n",
       "      <td>Ingresos corrientes del gobierno central (mill...</td>\n",
       "    </tr>\n",
       "    <tr>\n",
       "      <th>1</th>\n",
       "      <td>PN38705PM</td>\n",
       "      <td>Índice de precios Lima Metropolitana (índice D...</td>\n",
       "    </tr>\n",
       "    <tr>\n",
       "      <th>2</th>\n",
       "      <td>PN02020AM</td>\n",
       "      <td>Producción manufacturera (índice 2007 = 100) -...</td>\n",
       "    </tr>\n",
       "    <tr>\n",
       "      <th>3</th>\n",
       "      <td>PN02028AM</td>\n",
       "      <td>Producción manufacturera (índice 2007 = 100) -...</td>\n",
       "    </tr>\n",
       "    <tr>\n",
       "      <th>4</th>\n",
       "      <td>PD37972BM</td>\n",
       "      <td>Indicadores de coyuntura - Volumen de exportac...</td>\n",
       "    </tr>\n",
       "    <tr>\n",
       "      <th>5</th>\n",
       "      <td>PD37974BM</td>\n",
       "      <td>Indicadores de coyuntura - Volumen de importac...</td>\n",
       "    </tr>\n",
       "    <tr>\n",
       "      <th>6</th>\n",
       "      <td>PD37976BM</td>\n",
       "      <td>Indicadores de coyuntura - Volumen de importac...</td>\n",
       "    </tr>\n",
       "  </tbody>\n",
       "</table>\n",
       "</div>"
      ],
      "text/plain": [
       "     Feature                                        Description\n",
       "0  PN02312FM  Ingresos corrientes del gobierno central (mill...\n",
       "1  PN38705PM  Índice de precios Lima Metropolitana (índice D...\n",
       "2  PN02020AM  Producción manufacturera (índice 2007 = 100) -...\n",
       "3  PN02028AM  Producción manufacturera (índice 2007 = 100) -...\n",
       "4  PD37972BM  Indicadores de coyuntura - Volumen de exportac...\n",
       "5  PD37974BM  Indicadores de coyuntura - Volumen de importac...\n",
       "6  PD37976BM  Indicadores de coyuntura - Volumen de importac..."
      ]
     },
     "execution_count": 105,
     "metadata": {},
     "output_type": "execute_result"
    }
   ],
   "source": [
    "md = pd.read_csv('../data/PERU_METADATA.csv')\n",
    "md"
   ]
  },
  {
   "attachments": {},
   "cell_type": "markdown",
   "metadata": {},
   "source": [
    "Estadisticas descriptivas del dataset"
   ]
  },
  {
   "cell_type": "code",
   "execution_count": 106,
   "metadata": {},
   "outputs": [
    {
     "data": {
      "text/html": [
       "<div>\n",
       "<style scoped>\n",
       "    .dataframe tbody tr th:only-of-type {\n",
       "        vertical-align: middle;\n",
       "    }\n",
       "\n",
       "    .dataframe tbody tr th {\n",
       "        vertical-align: top;\n",
       "    }\n",
       "\n",
       "    .dataframe thead th {\n",
       "        text-align: right;\n",
       "    }\n",
       "</style>\n",
       "<table border=\"1\" class=\"dataframe\">\n",
       "  <thead>\n",
       "    <tr style=\"text-align: right;\">\n",
       "      <th></th>\n",
       "      <th>PN02312FM</th>\n",
       "      <th>PN38705PM</th>\n",
       "      <th>PN02028AM</th>\n",
       "      <th>PD37972BM</th>\n",
       "      <th>PD37974BM</th>\n",
       "      <th>PD37976BM</th>\n",
       "      <th>Class</th>\n",
       "    </tr>\n",
       "  </thead>\n",
       "  <tbody>\n",
       "    <tr>\n",
       "      <th>count</th>\n",
       "      <td>332.000000</td>\n",
       "      <td>332.000000</td>\n",
       "      <td>332.000000</td>\n",
       "      <td>332.000000</td>\n",
       "      <td>332.000000</td>\n",
       "      <td>332.000000</td>\n",
       "      <td>332.000000</td>\n",
       "    </tr>\n",
       "    <tr>\n",
       "      <th>mean</th>\n",
       "      <td>5962.681531</td>\n",
       "      <td>69.824862</td>\n",
       "      <td>96.893401</td>\n",
       "      <td>106.152020</td>\n",
       "      <td>136.997651</td>\n",
       "      <td>110.277013</td>\n",
       "      <td>0.117470</td>\n",
       "    </tr>\n",
       "    <tr>\n",
       "      <th>std</th>\n",
       "      <td>3728.593018</td>\n",
       "      <td>16.355042</td>\n",
       "      <td>29.867365</td>\n",
       "      <td>53.145446</td>\n",
       "      <td>70.576452</td>\n",
       "      <td>50.474622</td>\n",
       "      <td>0.322465</td>\n",
       "    </tr>\n",
       "    <tr>\n",
       "      <th>min</th>\n",
       "      <td>1272.226473</td>\n",
       "      <td>38.433894</td>\n",
       "      <td>44.000495</td>\n",
       "      <td>27.040935</td>\n",
       "      <td>40.847639</td>\n",
       "      <td>38.761128</td>\n",
       "      <td>0.000000</td>\n",
       "    </tr>\n",
       "    <tr>\n",
       "      <th>25%</th>\n",
       "      <td>2381.603673</td>\n",
       "      <td>56.971250</td>\n",
       "      <td>64.365560</td>\n",
       "      <td>53.804463</td>\n",
       "      <td>70.525440</td>\n",
       "      <td>57.854372</td>\n",
       "      <td>0.000000</td>\n",
       "    </tr>\n",
       "    <tr>\n",
       "      <th>50%</th>\n",
       "      <td>5216.169214</td>\n",
       "      <td>69.185041</td>\n",
       "      <td>104.606060</td>\n",
       "      <td>103.837984</td>\n",
       "      <td>114.370742</td>\n",
       "      <td>108.518908</td>\n",
       "      <td>0.000000</td>\n",
       "    </tr>\n",
       "    <tr>\n",
       "      <th>75%</th>\n",
       "      <td>8461.483993</td>\n",
       "      <td>83.963561</td>\n",
       "      <td>124.955948</td>\n",
       "      <td>144.572937</td>\n",
       "      <td>209.385636</td>\n",
       "      <td>155.790121</td>\n",
       "      <td>0.000000</td>\n",
       "    </tr>\n",
       "    <tr>\n",
       "      <th>max</th>\n",
       "      <td>22599.104803</td>\n",
       "      <td>106.679849</td>\n",
       "      <td>144.397027</td>\n",
       "      <td>264.058785</td>\n",
       "      <td>281.894625</td>\n",
       "      <td>216.507003</td>\n",
       "      <td>1.000000</td>\n",
       "    </tr>\n",
       "  </tbody>\n",
       "</table>\n",
       "</div>"
      ],
      "text/plain": [
       "          PN02312FM   PN38705PM   PN02028AM   PD37972BM   PD37974BM  \\\n",
       "count    332.000000  332.000000  332.000000  332.000000  332.000000   \n",
       "mean    5962.681531   69.824862   96.893401  106.152020  136.997651   \n",
       "std     3728.593018   16.355042   29.867365   53.145446   70.576452   \n",
       "min     1272.226473   38.433894   44.000495   27.040935   40.847639   \n",
       "25%     2381.603673   56.971250   64.365560   53.804463   70.525440   \n",
       "50%     5216.169214   69.185041  104.606060  103.837984  114.370742   \n",
       "75%     8461.483993   83.963561  124.955948  144.572937  209.385636   \n",
       "max    22599.104803  106.679849  144.397027  264.058785  281.894625   \n",
       "\n",
       "        PD37976BM       Class  \n",
       "count  332.000000  332.000000  \n",
       "mean   110.277013    0.117470  \n",
       "std     50.474622    0.322465  \n",
       "min     38.761128    0.000000  \n",
       "25%     57.854372    0.000000  \n",
       "50%    108.518908    0.000000  \n",
       "75%    155.790121    0.000000  \n",
       "max    216.507003    1.000000  "
      ]
     },
     "execution_count": 106,
     "metadata": {},
     "output_type": "execute_result"
    }
   ],
   "source": [
    "df.describe()"
   ]
  },
  {
   "attachments": {},
   "cell_type": "markdown",
   "metadata": {},
   "source": [
    "Grafica de las caracteristicas"
   ]
  },
  {
   "cell_type": "code",
   "execution_count": 107,
   "metadata": {},
   "outputs": [],
   "source": [
    "#graficar_multiple(df)"
   ]
  },
  {
   "attachments": {},
   "cell_type": "markdown",
   "metadata": {},
   "source": [
    "# Preprocesamiento"
   ]
  },
  {
   "attachments": {},
   "cell_type": "markdown",
   "metadata": {},
   "source": [
    "## Ajuste Estacional"
   ]
  },
  {
   "attachments": {},
   "cell_type": "markdown",
   "metadata": {},
   "source": [
    "Segun lo anterior, se observa que presentan estacionalidad.\n",
    "Se procede a realizar un ajuste estacional, descomponiendo la serie y eliminando \n",
    "su componente de estacionalidad."
   ]
  },
  {
   "cell_type": "code",
   "execution_count": 108,
   "metadata": {},
   "outputs": [],
   "source": [
    "for col in df.columns:\n",
    "    if col == 'Class':\n",
    "        continue\n",
    "    res = STL(df[col], period = 12).fit()\n",
    "    df[col] = res.trend"
   ]
  },
  {
   "attachments": {},
   "cell_type": "markdown",
   "metadata": {},
   "source": [
    "## Transformaciones"
   ]
  },
  {
   "attachments": {},
   "cell_type": "markdown",
   "metadata": {},
   "source": [
    "Se transforma las series a variaciones segun la observacion anterior usando diferencia logaritmica"
   ]
  },
  {
   "cell_type": "code",
   "execution_count": 109,
   "metadata": {},
   "outputs": [],
   "source": [
    "df_diff = df.copy()\n",
    "for col in df_diff.columns:\n",
    "    if col == 'Class':\n",
    "        continue\n",
    "    df_diff[col] = np.log(df_diff[col]) - np.log(df_diff[col].shift(1))\n",
    "df_diff = df_diff.dropna()"
   ]
  },
  {
   "attachments": {},
   "cell_type": "markdown",
   "metadata": {},
   "source": [
    "# Seleccion de Caracteristicas"
   ]
  },
  {
   "cell_type": "code",
   "execution_count": 110,
   "metadata": {},
   "outputs": [
    {
     "data": {
      "text/html": [
       "<style type=\"text/css\">\n",
       "#T_844a5_row0_col0, #T_844a5_row1_col1, #T_844a5_row2_col2, #T_844a5_row3_col3, #T_844a5_row4_col4, #T_844a5_row5_col5, #T_844a5_row6_col6 {\n",
       "  background-color: #b40426;\n",
       "  color: #f1f1f1;\n",
       "}\n",
       "#T_844a5_row0_col1, #T_844a5_row1_col3 {\n",
       "  background-color: #a3c2fe;\n",
       "  color: #000000;\n",
       "}\n",
       "#T_844a5_row0_col2 {\n",
       "  background-color: #e36c55;\n",
       "  color: #f1f1f1;\n",
       "}\n",
       "#T_844a5_row0_col3 {\n",
       "  background-color: #f59c7d;\n",
       "  color: #000000;\n",
       "}\n",
       "#T_844a5_row0_col4, #T_844a5_row4_col0 {\n",
       "  background-color: #f7b093;\n",
       "  color: #000000;\n",
       "}\n",
       "#T_844a5_row0_col5 {\n",
       "  background-color: #f7af91;\n",
       "  color: #000000;\n",
       "}\n",
       "#T_844a5_row0_col6, #T_844a5_row4_col6, #T_844a5_row5_col1, #T_844a5_row6_col0, #T_844a5_row6_col2, #T_844a5_row6_col3, #T_844a5_row6_col4, #T_844a5_row6_col5 {\n",
       "  background-color: #3b4cc0;\n",
       "  color: #f1f1f1;\n",
       "}\n",
       "#T_844a5_row1_col0 {\n",
       "  background-color: #cfdaea;\n",
       "  color: #000000;\n",
       "}\n",
       "#T_844a5_row1_col2 {\n",
       "  background-color: #7da0f9;\n",
       "  color: #f1f1f1;\n",
       "}\n",
       "#T_844a5_row1_col4 {\n",
       "  background-color: #86a9fc;\n",
       "  color: #f1f1f1;\n",
       "}\n",
       "#T_844a5_row1_col5 {\n",
       "  background-color: #779af7;\n",
       "  color: #f1f1f1;\n",
       "}\n",
       "#T_844a5_row1_col6 {\n",
       "  background-color: #96b7ff;\n",
       "  color: #000000;\n",
       "}\n",
       "#T_844a5_row2_col0, #T_844a5_row2_col5, #T_844a5_row5_col2 {\n",
       "  background-color: #e36b54;\n",
       "  color: #f1f1f1;\n",
       "}\n",
       "#T_844a5_row2_col1 {\n",
       "  background-color: #4358cb;\n",
       "  color: #f1f1f1;\n",
       "}\n",
       "#T_844a5_row2_col3 {\n",
       "  background-color: #ee8669;\n",
       "  color: #f1f1f1;\n",
       "}\n",
       "#T_844a5_row2_col4 {\n",
       "  background-color: #e97a5f;\n",
       "  color: #f1f1f1;\n",
       "}\n",
       "#T_844a5_row2_col6 {\n",
       "  background-color: #4055c8;\n",
       "  color: #f1f1f1;\n",
       "}\n",
       "#T_844a5_row3_col0, #T_844a5_row5_col3 {\n",
       "  background-color: #f39778;\n",
       "  color: #000000;\n",
       "}\n",
       "#T_844a5_row3_col1 {\n",
       "  background-color: #7699f6;\n",
       "  color: #f1f1f1;\n",
       "}\n",
       "#T_844a5_row3_col2 {\n",
       "  background-color: #ed8366;\n",
       "  color: #f1f1f1;\n",
       "}\n",
       "#T_844a5_row3_col4 {\n",
       "  background-color: #f5c1a9;\n",
       "  color: #000000;\n",
       "}\n",
       "#T_844a5_row3_col5 {\n",
       "  background-color: #f39475;\n",
       "  color: #000000;\n",
       "}\n",
       "#T_844a5_row3_col6 {\n",
       "  background-color: #4961d2;\n",
       "  color: #f1f1f1;\n",
       "}\n",
       "#T_844a5_row4_col1 {\n",
       "  background-color: #485fd1;\n",
       "  color: #f1f1f1;\n",
       "}\n",
       "#T_844a5_row4_col2 {\n",
       "  background-color: #ea7b60;\n",
       "  color: #f1f1f1;\n",
       "}\n",
       "#T_844a5_row4_col3 {\n",
       "  background-color: #f4c6af;\n",
       "  color: #000000;\n",
       "}\n",
       "#T_844a5_row4_col5 {\n",
       "  background-color: #e57058;\n",
       "  color: #f1f1f1;\n",
       "}\n",
       "#T_844a5_row5_col0 {\n",
       "  background-color: #f7ad90;\n",
       "  color: #000000;\n",
       "}\n",
       "#T_844a5_row5_col4 {\n",
       "  background-color: #e46e56;\n",
       "  color: #f1f1f1;\n",
       "}\n",
       "#T_844a5_row5_col6 {\n",
       "  background-color: #3d50c3;\n",
       "  color: #f1f1f1;\n",
       "}\n",
       "#T_844a5_row6_col1 {\n",
       "  background-color: #5673e0;\n",
       "  color: #f1f1f1;\n",
       "}\n",
       "</style>\n",
       "<table id=\"T_844a5\">\n",
       "  <thead>\n",
       "    <tr>\n",
       "      <th class=\"blank level0\" >&nbsp;</th>\n",
       "      <th id=\"T_844a5_level0_col0\" class=\"col_heading level0 col0\" >PN02312FM</th>\n",
       "      <th id=\"T_844a5_level0_col1\" class=\"col_heading level0 col1\" >PN38705PM</th>\n",
       "      <th id=\"T_844a5_level0_col2\" class=\"col_heading level0 col2\" >PN02028AM</th>\n",
       "      <th id=\"T_844a5_level0_col3\" class=\"col_heading level0 col3\" >PD37972BM</th>\n",
       "      <th id=\"T_844a5_level0_col4\" class=\"col_heading level0 col4\" >PD37974BM</th>\n",
       "      <th id=\"T_844a5_level0_col5\" class=\"col_heading level0 col5\" >PD37976BM</th>\n",
       "      <th id=\"T_844a5_level0_col6\" class=\"col_heading level0 col6\" >Class</th>\n",
       "    </tr>\n",
       "  </thead>\n",
       "  <tbody>\n",
       "    <tr>\n",
       "      <th id=\"T_844a5_level0_row0\" class=\"row_heading level0 row0\" >PN02312FM</th>\n",
       "      <td id=\"T_844a5_row0_col0\" class=\"data row0 col0\" >1.000000</td>\n",
       "      <td id=\"T_844a5_row0_col1\" class=\"data row0 col1\" >0.212273</td>\n",
       "      <td id=\"T_844a5_row0_col2\" class=\"data row0 col2\" >0.791249</td>\n",
       "      <td id=\"T_844a5_row0_col3\" class=\"data row0 col3\" >0.653027</td>\n",
       "      <td id=\"T_844a5_row0_col4\" class=\"data row0 col4\" >0.556375</td>\n",
       "      <td id=\"T_844a5_row0_col5\" class=\"data row0 col5\" >0.566834</td>\n",
       "      <td id=\"T_844a5_row0_col6\" class=\"data row0 col6\" >-0.430561</td>\n",
       "    </tr>\n",
       "    <tr>\n",
       "      <th id=\"T_844a5_level0_row1\" class=\"row_heading level0 row1\" >PN38705PM</th>\n",
       "      <td id=\"T_844a5_row1_col0\" class=\"data row1 col0\" >0.212273</td>\n",
       "      <td id=\"T_844a5_row1_col1\" class=\"data row1 col1\" >1.000000</td>\n",
       "      <td id=\"T_844a5_row1_col2\" class=\"data row1 col2\" >-0.112058</td>\n",
       "      <td id=\"T_844a5_row1_col3\" class=\"data row1 col3\" >0.066657</td>\n",
       "      <td id=\"T_844a5_row1_col4\" class=\"data row1 col4\" >-0.095317</td>\n",
       "      <td id=\"T_844a5_row1_col5\" class=\"data row1 col5\" >-0.146610</td>\n",
       "      <td id=\"T_844a5_row1_col6\" class=\"data row1 col6\" >-0.039268</td>\n",
       "    </tr>\n",
       "    <tr>\n",
       "      <th id=\"T_844a5_level0_row2\" class=\"row_heading level0 row2\" >PN02028AM</th>\n",
       "      <td id=\"T_844a5_row2_col0\" class=\"data row2 col0\" >0.791249</td>\n",
       "      <td id=\"T_844a5_row2_col1\" class=\"data row2 col1\" >-0.112058</td>\n",
       "      <td id=\"T_844a5_row2_col2\" class=\"data row2 col2\" >1.000000</td>\n",
       "      <td id=\"T_844a5_row2_col3\" class=\"data row2 col3\" >0.722907</td>\n",
       "      <td id=\"T_844a5_row2_col4\" class=\"data row2 col4\" >0.744012</td>\n",
       "      <td id=\"T_844a5_row2_col5\" class=\"data row2 col5\" >0.793346</td>\n",
       "      <td id=\"T_844a5_row2_col6\" class=\"data row2 col6\" >-0.400376</td>\n",
       "    </tr>\n",
       "    <tr>\n",
       "      <th id=\"T_844a5_level0_row3\" class=\"row_heading level0 row3\" >PD37972BM</th>\n",
       "      <td id=\"T_844a5_row3_col0\" class=\"data row3 col0\" >0.653027</td>\n",
       "      <td id=\"T_844a5_row3_col1\" class=\"data row3 col1\" >0.066657</td>\n",
       "      <td id=\"T_844a5_row3_col2\" class=\"data row3 col2\" >0.722907</td>\n",
       "      <td id=\"T_844a5_row3_col3\" class=\"data row3 col3\" >1.000000</td>\n",
       "      <td id=\"T_844a5_row3_col4\" class=\"data row3 col4\" >0.479901</td>\n",
       "      <td id=\"T_844a5_row3_col5\" class=\"data row3 col5\" >0.666105</td>\n",
       "      <td id=\"T_844a5_row3_col6\" class=\"data row3 col6\" >-0.359304</td>\n",
       "    </tr>\n",
       "    <tr>\n",
       "      <th id=\"T_844a5_level0_row4\" class=\"row_heading level0 row4\" >PD37974BM</th>\n",
       "      <td id=\"T_844a5_row4_col0\" class=\"data row4 col0\" >0.556375</td>\n",
       "      <td id=\"T_844a5_row4_col1\" class=\"data row4 col1\" >-0.095317</td>\n",
       "      <td id=\"T_844a5_row4_col2\" class=\"data row4 col2\" >0.744012</td>\n",
       "      <td id=\"T_844a5_row4_col3\" class=\"data row4 col3\" >0.479901</td>\n",
       "      <td id=\"T_844a5_row4_col4\" class=\"data row4 col4\" >1.000000</td>\n",
       "      <td id=\"T_844a5_row4_col5\" class=\"data row4 col5\" >0.778404</td>\n",
       "      <td id=\"T_844a5_row4_col6\" class=\"data row4 col6\" >-0.426299</td>\n",
       "    </tr>\n",
       "    <tr>\n",
       "      <th id=\"T_844a5_level0_row5\" class=\"row_heading level0 row5\" >PD37976BM</th>\n",
       "      <td id=\"T_844a5_row5_col0\" class=\"data row5 col0\" >0.566834</td>\n",
       "      <td id=\"T_844a5_row5_col1\" class=\"data row5 col1\" >-0.146610</td>\n",
       "      <td id=\"T_844a5_row5_col2\" class=\"data row5 col2\" >0.793346</td>\n",
       "      <td id=\"T_844a5_row5_col3\" class=\"data row5 col3\" >0.666105</td>\n",
       "      <td id=\"T_844a5_row5_col4\" class=\"data row5 col4\" >0.778404</td>\n",
       "      <td id=\"T_844a5_row5_col5\" class=\"data row5 col5\" >1.000000</td>\n",
       "      <td id=\"T_844a5_row5_col6\" class=\"data row5 col6\" >-0.415544</td>\n",
       "    </tr>\n",
       "    <tr>\n",
       "      <th id=\"T_844a5_level0_row6\" class=\"row_heading level0 row6\" >Class</th>\n",
       "      <td id=\"T_844a5_row6_col0\" class=\"data row6 col0\" >-0.430561</td>\n",
       "      <td id=\"T_844a5_row6_col1\" class=\"data row6 col1\" >-0.039268</td>\n",
       "      <td id=\"T_844a5_row6_col2\" class=\"data row6 col2\" >-0.400376</td>\n",
       "      <td id=\"T_844a5_row6_col3\" class=\"data row6 col3\" >-0.359304</td>\n",
       "      <td id=\"T_844a5_row6_col4\" class=\"data row6 col4\" >-0.426299</td>\n",
       "      <td id=\"T_844a5_row6_col5\" class=\"data row6 col5\" >-0.415544</td>\n",
       "      <td id=\"T_844a5_row6_col6\" class=\"data row6 col6\" >1.000000</td>\n",
       "    </tr>\n",
       "  </tbody>\n",
       "</table>\n"
      ],
      "text/plain": [
       "<pandas.io.formats.style.Styler at 0x28502ea09a0>"
      ]
     },
     "execution_count": 110,
     "metadata": {},
     "output_type": "execute_result"
    }
   ],
   "source": [
    "corr = df_diff.corr()\n",
    "corr.style.background_gradient(cmap='coolwarm')"
   ]
  },
  {
   "cell_type": "code",
   "execution_count": 111,
   "metadata": {},
   "outputs": [],
   "source": [
    "def features_sel(corr: pd.DataFrame, n_sel):\n",
    "    cc = corr['Class'].abs().sort_values(ascending=False).drop('Class')\n",
    "    cc = cc.index.to_list()\n",
    "    i = 0\n",
    "    sel = []\n",
    "    #print(cc)\n",
    "    while i < n_sel:\n",
    "        f = cc[0]\n",
    "        #elimina alto correlacionados\n",
    "        cc = [e for e in cc if e not in corr[(corr[f].abs()>0.9)].index.to_list()]\n",
    "        sel.append(f)\n",
    "        i += 1\n",
    "    sel.append('Class')\n",
    "    return sel"
   ]
  },
  {
   "cell_type": "code",
   "execution_count": 112,
   "metadata": {},
   "outputs": [
    {
     "data": {
      "text/html": [
       "<style type=\"text/css\">\n",
       "#T_bde44_row0_col0, #T_bde44_row1_col1, #T_bde44_row2_col2, #T_bde44_row3_col3, #T_bde44_row4_col4, #T_bde44_row5_col5 {\n",
       "  background-color: #b40426;\n",
       "  color: #f1f1f1;\n",
       "}\n",
       "#T_bde44_row0_col1, #T_bde44_row1_col0 {\n",
       "  background-color: #f7b093;\n",
       "  color: #000000;\n",
       "}\n",
       "#T_bde44_row0_col2 {\n",
       "  background-color: #f7af91;\n",
       "  color: #000000;\n",
       "}\n",
       "#T_bde44_row0_col3 {\n",
       "  background-color: #e36c55;\n",
       "  color: #f1f1f1;\n",
       "}\n",
       "#T_bde44_row0_col4 {\n",
       "  background-color: #f59c7d;\n",
       "  color: #000000;\n",
       "}\n",
       "#T_bde44_row0_col5, #T_bde44_row1_col5, #T_bde44_row5_col0, #T_bde44_row5_col1, #T_bde44_row5_col2, #T_bde44_row5_col3, #T_bde44_row5_col4 {\n",
       "  background-color: #3b4cc0;\n",
       "  color: #f1f1f1;\n",
       "}\n",
       "#T_bde44_row1_col2 {\n",
       "  background-color: #e57058;\n",
       "  color: #f1f1f1;\n",
       "}\n",
       "#T_bde44_row1_col3 {\n",
       "  background-color: #ea7b60;\n",
       "  color: #f1f1f1;\n",
       "}\n",
       "#T_bde44_row1_col4 {\n",
       "  background-color: #f4c6af;\n",
       "  color: #000000;\n",
       "}\n",
       "#T_bde44_row2_col0 {\n",
       "  background-color: #f7ad90;\n",
       "  color: #000000;\n",
       "}\n",
       "#T_bde44_row2_col1 {\n",
       "  background-color: #e46e56;\n",
       "  color: #f1f1f1;\n",
       "}\n",
       "#T_bde44_row2_col3, #T_bde44_row3_col0, #T_bde44_row3_col2 {\n",
       "  background-color: #e36b54;\n",
       "  color: #f1f1f1;\n",
       "}\n",
       "#T_bde44_row2_col4, #T_bde44_row4_col0 {\n",
       "  background-color: #f39778;\n",
       "  color: #000000;\n",
       "}\n",
       "#T_bde44_row2_col5 {\n",
       "  background-color: #3d50c3;\n",
       "  color: #f1f1f1;\n",
       "}\n",
       "#T_bde44_row3_col1 {\n",
       "  background-color: #e97a5f;\n",
       "  color: #f1f1f1;\n",
       "}\n",
       "#T_bde44_row3_col4 {\n",
       "  background-color: #ee8669;\n",
       "  color: #f1f1f1;\n",
       "}\n",
       "#T_bde44_row3_col5 {\n",
       "  background-color: #4055c8;\n",
       "  color: #f1f1f1;\n",
       "}\n",
       "#T_bde44_row4_col1 {\n",
       "  background-color: #f5c1a9;\n",
       "  color: #000000;\n",
       "}\n",
       "#T_bde44_row4_col2 {\n",
       "  background-color: #f39475;\n",
       "  color: #000000;\n",
       "}\n",
       "#T_bde44_row4_col3 {\n",
       "  background-color: #ed8366;\n",
       "  color: #f1f1f1;\n",
       "}\n",
       "#T_bde44_row4_col5 {\n",
       "  background-color: #4961d2;\n",
       "  color: #f1f1f1;\n",
       "}\n",
       "</style>\n",
       "<table id=\"T_bde44\">\n",
       "  <thead>\n",
       "    <tr>\n",
       "      <th class=\"blank level0\" >&nbsp;</th>\n",
       "      <th id=\"T_bde44_level0_col0\" class=\"col_heading level0 col0\" >PN02312FM</th>\n",
       "      <th id=\"T_bde44_level0_col1\" class=\"col_heading level0 col1\" >PD37974BM</th>\n",
       "      <th id=\"T_bde44_level0_col2\" class=\"col_heading level0 col2\" >PD37976BM</th>\n",
       "      <th id=\"T_bde44_level0_col3\" class=\"col_heading level0 col3\" >PN02028AM</th>\n",
       "      <th id=\"T_bde44_level0_col4\" class=\"col_heading level0 col4\" >PD37972BM</th>\n",
       "      <th id=\"T_bde44_level0_col5\" class=\"col_heading level0 col5\" >Class</th>\n",
       "    </tr>\n",
       "  </thead>\n",
       "  <tbody>\n",
       "    <tr>\n",
       "      <th id=\"T_bde44_level0_row0\" class=\"row_heading level0 row0\" >PN02312FM</th>\n",
       "      <td id=\"T_bde44_row0_col0\" class=\"data row0 col0\" >1.000000</td>\n",
       "      <td id=\"T_bde44_row0_col1\" class=\"data row0 col1\" >0.556375</td>\n",
       "      <td id=\"T_bde44_row0_col2\" class=\"data row0 col2\" >0.566834</td>\n",
       "      <td id=\"T_bde44_row0_col3\" class=\"data row0 col3\" >0.791249</td>\n",
       "      <td id=\"T_bde44_row0_col4\" class=\"data row0 col4\" >0.653027</td>\n",
       "      <td id=\"T_bde44_row0_col5\" class=\"data row0 col5\" >-0.430561</td>\n",
       "    </tr>\n",
       "    <tr>\n",
       "      <th id=\"T_bde44_level0_row1\" class=\"row_heading level0 row1\" >PD37974BM</th>\n",
       "      <td id=\"T_bde44_row1_col0\" class=\"data row1 col0\" >0.556375</td>\n",
       "      <td id=\"T_bde44_row1_col1\" class=\"data row1 col1\" >1.000000</td>\n",
       "      <td id=\"T_bde44_row1_col2\" class=\"data row1 col2\" >0.778404</td>\n",
       "      <td id=\"T_bde44_row1_col3\" class=\"data row1 col3\" >0.744012</td>\n",
       "      <td id=\"T_bde44_row1_col4\" class=\"data row1 col4\" >0.479901</td>\n",
       "      <td id=\"T_bde44_row1_col5\" class=\"data row1 col5\" >-0.426299</td>\n",
       "    </tr>\n",
       "    <tr>\n",
       "      <th id=\"T_bde44_level0_row2\" class=\"row_heading level0 row2\" >PD37976BM</th>\n",
       "      <td id=\"T_bde44_row2_col0\" class=\"data row2 col0\" >0.566834</td>\n",
       "      <td id=\"T_bde44_row2_col1\" class=\"data row2 col1\" >0.778404</td>\n",
       "      <td id=\"T_bde44_row2_col2\" class=\"data row2 col2\" >1.000000</td>\n",
       "      <td id=\"T_bde44_row2_col3\" class=\"data row2 col3\" >0.793346</td>\n",
       "      <td id=\"T_bde44_row2_col4\" class=\"data row2 col4\" >0.666105</td>\n",
       "      <td id=\"T_bde44_row2_col5\" class=\"data row2 col5\" >-0.415544</td>\n",
       "    </tr>\n",
       "    <tr>\n",
       "      <th id=\"T_bde44_level0_row3\" class=\"row_heading level0 row3\" >PN02028AM</th>\n",
       "      <td id=\"T_bde44_row3_col0\" class=\"data row3 col0\" >0.791249</td>\n",
       "      <td id=\"T_bde44_row3_col1\" class=\"data row3 col1\" >0.744012</td>\n",
       "      <td id=\"T_bde44_row3_col2\" class=\"data row3 col2\" >0.793346</td>\n",
       "      <td id=\"T_bde44_row3_col3\" class=\"data row3 col3\" >1.000000</td>\n",
       "      <td id=\"T_bde44_row3_col4\" class=\"data row3 col4\" >0.722907</td>\n",
       "      <td id=\"T_bde44_row3_col5\" class=\"data row3 col5\" >-0.400376</td>\n",
       "    </tr>\n",
       "    <tr>\n",
       "      <th id=\"T_bde44_level0_row4\" class=\"row_heading level0 row4\" >PD37972BM</th>\n",
       "      <td id=\"T_bde44_row4_col0\" class=\"data row4 col0\" >0.653027</td>\n",
       "      <td id=\"T_bde44_row4_col1\" class=\"data row4 col1\" >0.479901</td>\n",
       "      <td id=\"T_bde44_row4_col2\" class=\"data row4 col2\" >0.666105</td>\n",
       "      <td id=\"T_bde44_row4_col3\" class=\"data row4 col3\" >0.722907</td>\n",
       "      <td id=\"T_bde44_row4_col4\" class=\"data row4 col4\" >1.000000</td>\n",
       "      <td id=\"T_bde44_row4_col5\" class=\"data row4 col5\" >-0.359304</td>\n",
       "    </tr>\n",
       "    <tr>\n",
       "      <th id=\"T_bde44_level0_row5\" class=\"row_heading level0 row5\" >Class</th>\n",
       "      <td id=\"T_bde44_row5_col0\" class=\"data row5 col0\" >-0.430561</td>\n",
       "      <td id=\"T_bde44_row5_col1\" class=\"data row5 col1\" >-0.426299</td>\n",
       "      <td id=\"T_bde44_row5_col2\" class=\"data row5 col2\" >-0.415544</td>\n",
       "      <td id=\"T_bde44_row5_col3\" class=\"data row5 col3\" >-0.400376</td>\n",
       "      <td id=\"T_bde44_row5_col4\" class=\"data row5 col4\" >-0.359304</td>\n",
       "      <td id=\"T_bde44_row5_col5\" class=\"data row5 col5\" >1.000000</td>\n",
       "    </tr>\n",
       "  </tbody>\n",
       "</table>\n"
      ],
      "text/plain": [
       "<pandas.io.formats.style.Styler at 0x28503170ca0>"
      ]
     },
     "execution_count": 112,
     "metadata": {},
     "output_type": "execute_result"
    }
   ],
   "source": [
    "df_diff_sel = df_diff[features_sel(corr,5)]\n",
    "corr2 = df_diff_sel.corr()\n",
    "corr2.style.background_gradient(cmap='coolwarm')"
   ]
  },
  {
   "cell_type": "code",
   "execution_count": 113,
   "metadata": {},
   "outputs": [
    {
     "data": {
      "image/png": "[encoded data removed]",
      "text/plain": [
       "<Figure size 576x288 with 1 Axes>"
      ]
     },
     "metadata": {
      "needs_background": "light"
     },
     "output_type": "display_data"
    },
    {
     "data": {
      "image/png": "[encoded data removed]",
      "text/plain": [
       "<Figure size 576x288 with 1 Axes>"
      ]
     },
     "metadata": {
      "needs_background": "light"
     },
     "output_type": "display_data"
    },
    {
     "data": {
      "image/png": "[encoded data removed]",
      "text/plain": [
       "<Figure size 576x288 with 1 Axes>"
      ]
     },
     "metadata": {
      "needs_background": "light"
     },
     "output_type": "display_data"
    },
    {
     "data": {
      "image/png": "[encoded data removed]",
      "text/plain": [
       "<Figure size 576x288 with 1 Axes>"
      ]
     },
     "metadata": {
      "needs_background": "light"
     },
     "output_type": "display_data"
    },
    {
     "data": {
      "image/png": "[encoded data removed]",
      "text/plain": [
       "<Figure size 576x288 with 1 Axes>"
      ]
     },
     "metadata": {
      "needs_background": "light"
     },
     "output_type": "display_data"
    },
    {
     "data": {
      "image/png": "[encoded data removed]",
      "text/plain": [
       "<Figure size 576x288 with 1 Axes>"
      ]
     },
     "metadata": {
      "needs_background": "light"
     },
     "output_type": "display_data"
    }
   ],
   "source": [
    "graficar_multiple(df_diff_sel)"
   ]
  },
  {
   "cell_type": "markdown",
   "metadata": {},
   "source": [
    "Completar datos interpolando"
   ]
  },
  {
   "cell_type": "code",
   "execution_count": 114,
   "metadata": {},
   "outputs": [
    {
     "data": {
      "text/html": [
       "<div>\n",
       "<style scoped>\n",
       "    .dataframe tbody tr th:only-of-type {\n",
       "        vertical-align: middle;\n",
       "    }\n",
       "\n",
       "    .dataframe tbody tr th {\n",
       "        vertical-align: top;\n",
       "    }\n",
       "\n",
       "    .dataframe thead th {\n",
       "        text-align: right;\n",
       "    }\n",
       "</style>\n",
       "<table border=\"1\" class=\"dataframe\">\n",
       "  <thead>\n",
       "    <tr style=\"text-align: right;\">\n",
       "      <th></th>\n",
       "      <th>PN02312FM</th>\n",
       "      <th>PD37974BM</th>\n",
       "      <th>PD37976BM</th>\n",
       "      <th>PN02028AM</th>\n",
       "      <th>PD37972BM</th>\n",
       "      <th>Class</th>\n",
       "    </tr>\n",
       "    <tr>\n",
       "      <th>DATE</th>\n",
       "      <th></th>\n",
       "      <th></th>\n",
       "      <th></th>\n",
       "      <th></th>\n",
       "      <th></th>\n",
       "      <th></th>\n",
       "    </tr>\n",
       "  </thead>\n",
       "  <tbody>\n",
       "    <tr>\n",
       "      <th>1995-03-01</th>\n",
       "      <td>0.018757</td>\n",
       "      <td>-0.004451</td>\n",
       "      <td>-0.006579</td>\n",
       "      <td>-0.002390</td>\n",
       "      <td>-0.000309</td>\n",
       "      <td>0</td>\n",
       "    </tr>\n",
       "    <tr>\n",
       "      <th>1995-04-01</th>\n",
       "      <td>0.018362</td>\n",
       "      <td>-0.004446</td>\n",
       "      <td>-0.006674</td>\n",
       "      <td>-0.002311</td>\n",
       "      <td>-0.000265</td>\n",
       "      <td>0</td>\n",
       "    </tr>\n",
       "    <tr>\n",
       "      <th>1995-05-01</th>\n",
       "      <td>0.017922</td>\n",
       "      <td>-0.004494</td>\n",
       "      <td>-0.006794</td>\n",
       "      <td>-0.002235</td>\n",
       "      <td>-0.000201</td>\n",
       "      <td>0</td>\n",
       "    </tr>\n",
       "    <tr>\n",
       "      <th>1995-06-01</th>\n",
       "      <td>0.017489</td>\n",
       "      <td>-0.004590</td>\n",
       "      <td>-0.006922</td>\n",
       "      <td>-0.002158</td>\n",
       "      <td>-0.000108</td>\n",
       "      <td>0</td>\n",
       "    </tr>\n",
       "    <tr>\n",
       "      <th>1995-07-01</th>\n",
       "      <td>0.017076</td>\n",
       "      <td>-0.004723</td>\n",
       "      <td>-0.007032</td>\n",
       "      <td>-0.002082</td>\n",
       "      <td>0.000016</td>\n",
       "      <td>0</td>\n",
       "    </tr>\n",
       "  </tbody>\n",
       "</table>\n",
       "</div>"
      ],
      "text/plain": [
       "            PN02312FM  PD37974BM  PD37976BM  PN02028AM  PD37972BM  Class\n",
       "DATE                                                                    \n",
       "1995-03-01   0.018757  -0.004451  -0.006579  -0.002390  -0.000309      0\n",
       "1995-04-01   0.018362  -0.004446  -0.006674  -0.002311  -0.000265      0\n",
       "1995-05-01   0.017922  -0.004494  -0.006794  -0.002235  -0.000201      0\n",
       "1995-06-01   0.017489  -0.004590  -0.006922  -0.002158  -0.000108      0\n",
       "1995-07-01   0.017076  -0.004723  -0.007032  -0.002082   0.000016      0"
      ]
     },
     "execution_count": 114,
     "metadata": {},
     "output_type": "execute_result"
    }
   ],
   "source": [
    "df_diff_sel.head()"
   ]
  },
  {
   "cell_type": "code",
   "execution_count": 115,
   "metadata": {},
   "outputs": [
    {
     "data": {
      "text/html": [
       "<div>\n",
       "<style scoped>\n",
       "    .dataframe tbody tr th:only-of-type {\n",
       "        vertical-align: middle;\n",
       "    }\n",
       "\n",
       "    .dataframe tbody tr th {\n",
       "        vertical-align: top;\n",
       "    }\n",
       "\n",
       "    .dataframe thead th {\n",
       "        text-align: right;\n",
       "    }\n",
       "</style>\n",
       "<table border=\"1\" class=\"dataframe\">\n",
       "  <thead>\n",
       "    <tr style=\"text-align: right;\">\n",
       "      <th></th>\n",
       "      <th>PN02312FM</th>\n",
       "      <th>PD37974BM</th>\n",
       "      <th>PD37976BM</th>\n",
       "      <th>PN02028AM</th>\n",
       "      <th>PD37972BM</th>\n",
       "      <th>Class</th>\n",
       "    </tr>\n",
       "  </thead>\n",
       "  <tbody>\n",
       "    <tr>\n",
       "      <th>count</th>\n",
       "      <td>331.000000</td>\n",
       "      <td>331.000000</td>\n",
       "      <td>331.000000</td>\n",
       "      <td>331.000000</td>\n",
       "      <td>331.000000</td>\n",
       "      <td>331.000000</td>\n",
       "    </tr>\n",
       "    <tr>\n",
       "      <th>mean</th>\n",
       "      <td>0.007333</td>\n",
       "      <td>0.003140</td>\n",
       "      <td>0.004260</td>\n",
       "      <td>0.002553</td>\n",
       "      <td>0.005870</td>\n",
       "      <td>0.117825</td>\n",
       "    </tr>\n",
       "    <tr>\n",
       "      <th>std</th>\n",
       "      <td>0.009396</td>\n",
       "      <td>0.014114</td>\n",
       "      <td>0.008570</td>\n",
       "      <td>0.006737</td>\n",
       "      <td>0.007171</td>\n",
       "      <td>0.322889</td>\n",
       "    </tr>\n",
       "    <tr>\n",
       "      <th>min</th>\n",
       "      <td>-0.023065</td>\n",
       "      <td>-0.044618</td>\n",
       "      <td>-0.021834</td>\n",
       "      <td>-0.024735</td>\n",
       "      <td>-0.014352</td>\n",
       "      <td>0.000000</td>\n",
       "    </tr>\n",
       "    <tr>\n",
       "      <th>25%</th>\n",
       "      <td>0.001821</td>\n",
       "      <td>-0.004155</td>\n",
       "      <td>-0.000763</td>\n",
       "      <td>-0.001154</td>\n",
       "      <td>0.001794</td>\n",
       "      <td>0.000000</td>\n",
       "    </tr>\n",
       "    <tr>\n",
       "      <th>50%</th>\n",
       "      <td>0.007930</td>\n",
       "      <td>0.003949</td>\n",
       "      <td>0.004378</td>\n",
       "      <td>0.002729</td>\n",
       "      <td>0.006407</td>\n",
       "      <td>0.000000</td>\n",
       "    </tr>\n",
       "    <tr>\n",
       "      <th>75%</th>\n",
       "      <td>0.011984</td>\n",
       "      <td>0.010879</td>\n",
       "      <td>0.009684</td>\n",
       "      <td>0.006601</td>\n",
       "      <td>0.009957</td>\n",
       "      <td>0.000000</td>\n",
       "    </tr>\n",
       "    <tr>\n",
       "      <th>max</th>\n",
       "      <td>0.042614</td>\n",
       "      <td>0.036833</td>\n",
       "      <td>0.026307</td>\n",
       "      <td>0.027911</td>\n",
       "      <td>0.025603</td>\n",
       "      <td>1.000000</td>\n",
       "    </tr>\n",
       "  </tbody>\n",
       "</table>\n",
       "</div>"
      ],
      "text/plain": [
       "        PN02312FM   PD37974BM   PD37976BM   PN02028AM   PD37972BM       Class\n",
       "count  331.000000  331.000000  331.000000  331.000000  331.000000  331.000000\n",
       "mean     0.007333    0.003140    0.004260    0.002553    0.005870    0.117825\n",
       "std      0.009396    0.014114    0.008570    0.006737    0.007171    0.322889\n",
       "min     -0.023065   -0.044618   -0.021834   -0.024735   -0.014352    0.000000\n",
       "25%      0.001821   -0.004155   -0.000763   -0.001154    0.001794    0.000000\n",
       "50%      0.007930    0.003949    0.004378    0.002729    0.006407    0.000000\n",
       "75%      0.011984    0.010879    0.009684    0.006601    0.009957    0.000000\n",
       "max      0.042614    0.036833    0.026307    0.027911    0.025603    1.000000"
      ]
     },
     "execution_count": 115,
     "metadata": {},
     "output_type": "execute_result"
    }
   ],
   "source": [
    "df_diff_sel.describe()"
   ]
  },
  {
   "cell_type": "code",
   "execution_count": 116,
   "metadata": {},
   "outputs": [
    {
     "data": {
      "text/plain": [
       "<AxesSubplot:xlabel='DATE'>"
      ]
     },
     "execution_count": 116,
     "metadata": {},
     "output_type": "execute_result"
    },
    {
     "data": {
      "image/png": "[encoded data removed]",
      "text/plain": [
       "<Figure size 432x288 with 1 Axes>"
      ]
     },
     "metadata": {
      "needs_background": "light"
     },
     "output_type": "display_data"
    }
   ],
   "source": [
    "df_diff_sel.drop(labels=['Class'],axis=1).plot()"
   ]
  },
  {
   "cell_type": "code",
   "execution_count": 117,
   "metadata": {},
   "outputs": [
    {
     "data": {
      "text/plain": [
       "array([[<AxesSubplot:title={'center':'PN02312FM'}>,\n",
       "        <AxesSubplot:title={'center':'PD37974BM'}>],\n",
       "       [<AxesSubplot:title={'center':'PD37976BM'}>,\n",
       "        <AxesSubplot:title={'center':'PN02028AM'}>],\n",
       "       [<AxesSubplot:title={'center':'PD37972BM'}>,\n",
       "        <AxesSubplot:title={'center':'Class'}>]], dtype=object)"
      ]
     },
     "execution_count": 117,
     "metadata": {},
     "output_type": "execute_result"
    },
    {
     "data": {
      "image/png": "[encoded data removed]",
      "text/plain": [
       "<Figure size 864x720 with 6 Axes>"
      ]
     },
     "metadata": {
      "needs_background": "light"
     },
     "output_type": "display_data"
    }
   ],
   "source": [
    "df_diff_sel.hist(figsize=[12,10], bins=20)"
   ]
  },
  {
   "cell_type": "code",
   "execution_count": 118,
   "metadata": {},
   "outputs": [],
   "source": [
    "df_diff_sel.to_csv(\"../data/PERU_DATA_DIFF.csv\")"
   ]
  }
 ],
 "metadata": {
  "kernelspec": {
   "display_name": "Python 3.8.12 ('base')",
   "language": "python",
   "name": "python3"
  },
  "language_info": {
   "codemirror_mode": {
    "name": "ipython",
    "version": 3
   },
   "file_extension": ".py",
   "mimetype": "text/x-python",
   "name": "python",
   "nbconvert_exporter": "python",
   "pygments_lexer": "ipython3",
   "version": "3.8.13"
  },
  "orig_nbformat": 4,
  "vscode": {
   "interpreter": {
    "hash": "e6822839c80bb80c42f7f9e096efdd447a89633a8e8a553b5cfb2012f3a4eafe"
   }
  }
 },
 "nbformat": 4,
 "nbformat_minor": 2
}
