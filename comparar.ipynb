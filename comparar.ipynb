{
 "cells": [
  {
   "cell_type": "code",
   "execution_count": 1,
   "metadata": {},
   "outputs": [],
   "source": [
    "import pandas as pd\n",
    "import matplotlib.pyplot as plt\n",
    "import seaborn as sns"
   ]
  },
  {
   "cell_type": "code",
   "execution_count": 2,
   "metadata": {},
   "outputs": [],
   "source": [
    "def crearDF(res: dict):\n",
    "    df = pd.DataFrame()\n",
    "    for key in res.keys():\n",
    "        tmp_df = pd.read_csv(res[key])\n",
    "        df[key] = tmp_df['precision']\n",
    "    return df\n",
    "\n",
    "def meanDf(df: pd.DataFrame):\n",
    "    df2 = pd.DataFrame()\n",
    "    for col in df.columns:\n",
    "        df2[col] = [df[col].mean(), df[col].std()]\n",
    "    return df2\n",
    "\n",
    "def barras(df: pd.DataFrame, title: str):\n",
    "    fig, ax = plt.subplots(figsize=(12,5))\n",
    "    sns.barplot(data=df, ax=ax)\n",
    "    ax.set_axisbelow(True)\n",
    "    ax.set_title(title)\n",
    "    ax.set_ylabel('Precision')\n",
    "    ax.set_xlabel('Models')\n",
    "    plt.grid(True, axis='y')"
   ]
  },
  {
   "cell_type": "code",
   "execution_count": 3,
   "metadata": {},
   "outputs": [],
   "source": [
    "res_peru_1 = {\n",
    "    'MLP_PERU':'./modelamiento/modelos/MLP_PERU_1_20221231_0044.csv',\n",
    "    'CNN_PERU':'./modelamiento/modelos/CNN_PERU_1_20221230_2244.csv',\n",
    "    'LSTM_PERU':'./modelamiento/modelos/LSTM_PERU_1_20221230_2342.csv',\n",
    "    'GRU_PERU':'./modelamiento/modelos/GRU_PERU_1_20221230_2312.csv',\n",
    "    'MLP_PERU_FT':'./modelamiento/modelos/MLP_TL_PERU_1_20230112_1919.csv',\n",
    "    'CNN_PERU_FT':'./modelamiento/modelos/CNN_TL_PERU_1_20221230_2208.csv',\n",
    "    'LSTM_PERU_FT':'./modelamiento/modelos/LSTM_TL_PERU_1_20221230_1934.csv',\n",
    "    'GRU_PERU_FT':'./modelamiento/modelos/GRU_TL_PERU_1_20221230_2036.csv',\n",
    "}\n",
    "res_peru_6 = {\n",
    "    'MLP_PERU':'./modelamiento/modelos/MLP_PERU_6_20221231_0044.csv',\n",
    "    'CNN_PERU':'./modelamiento/modelos/CNN_PERU_6_20221230_2244.csv',\n",
    "    'LSTM_PERU':'./modelamiento/modelos/LSTM_PERU_6_20221230_2342.csv',\n",
    "    'GRU_PERU':'./modelamiento/modelos/GRU_PERU_6_20221230_2312.csv',\n",
    "    'MLP_PERU_FT':'./modelamiento/modelos/MLP_TL_PERU_6_20230112_1919.csv',\n",
    "    'CNN_PERU_FT':'./modelamiento/modelos/CNN_TL_PERU_6_20221230_2208.csv',\n",
    "    'LSTM_PERU_FT':'./modelamiento/modelos/LSTM_TL_PERU_6_20221230_1934.csv',\n",
    "    'GRU_PERU_FT':'./modelamiento/modelos/GRU_TL_PERU_6_20221230_2036.csv',\n",
    "}\n",
    "res_peru_12 = {\n",
    "    'MLP_PERU':'./modelamiento/modelos/MLP_PERU_12_20221231_0044.csv',\n",
    "    'CNN_PERU':'./modelamiento/modelos/CNN_PERU_12_20221230_2244.csv',\n",
    "    'LSTM_PERU':'./modelamiento/modelos/LSTM_PERU_12_20221230_2342.csv',\n",
    "    'GRU_PERU':'./modelamiento/modelos/GRU_PERU_12_20221230_2312.csv',\n",
    "    'MLP_PERU_FT':'./modelamiento/modelos/MLP_TL_PERU_12_20230112_1919.csv',\n",
    "    'CNN_PERU_FT':'./modelamiento/modelos/CNN_TL_PERU_12_20221230_2208.csv',\n",
    "    'LSTM_PERU_FT':'./modelamiento/modelos/LSTM_TL_PERU_12_20221230_1934.csv',\n",
    "    'GRU_PERU_FT':'./modelamiento/modelos/GRU_TL_PERU_12_20221230_2036.csv',\n",
    "}\n",
    "res_eeuu_1 = {\n",
    "    'MLP_EEUU':'./modelamiento/modelos/MLP_USA_1_20221231_0011.csv',\n",
    "    'CNN_EEUU':'./modelamiento/modelos/CNN_USA_1_20221230_2048.csv',\n",
    "    'LSTM_EEUU':'./modelamiento/modelos/LSTM_USA_1_20221230_1841.csv',\n",
    "    'GRU_EEUU':'./modelamiento/modelos/GRU_PERU_1_20221230_2312.csv',\n",
    "}\n",
    "res_eeuu_6 = {\n",
    "    'MLP_EEUU':'./modelamiento/modelos/MLP_USA_6_20221231_0011.csv',\n",
    "    'CNN_EEUU':'./modelamiento/modelos/CNN_USA_6_20221230_2048.csv',\n",
    "    'LSTM_EEUU':'./modelamiento/modelos/LSTM_USA_6_20221230_1841.csv',\n",
    "    'GRU_EEUU':'./modelamiento/modelos/GRU_PERU_6_20221230_2312.csv',\n",
    "}\n",
    "res_eeuu_12 = {\n",
    "    'MLP_EEUU':'./modelamiento/modelos/MLP_USA_12_20221231_0011.csv',\n",
    "    'CNN_EEUU':'./modelamiento/modelos/CNN_USA_12_20221230_2048.csv',\n",
    "    'LSTM_EEUU':'./modelamiento/modelos/LSTM_USA_12_20221230_1841.csv',\n",
    "    'GRU_EEUU':'./modelamiento/modelos/GRU_PERU_12_20221230_2312.csv',\n",
    "}"
   ]
  },
  {
   "cell_type": "code",
   "execution_count": 4,
   "metadata": {},
   "outputs": [
    {
     "data": {
      "text/html": [
       "<div>\n",
       "<style scoped>\n",
       "    .dataframe tbody tr th:only-of-type {\n",
       "        vertical-align: middle;\n",
       "    }\n",
       "\n",
       "    .dataframe tbody tr th {\n",
       "        vertical-align: top;\n",
       "    }\n",
       "\n",
       "    .dataframe thead th {\n",
       "        text-align: right;\n",
       "    }\n",
       "</style>\n",
       "<table border=\"1\" class=\"dataframe\">\n",
       "  <thead>\n",
       "    <tr style=\"text-align: right;\">\n",
       "      <th></th>\n",
       "      <th>0</th>\n",
       "      <th>1</th>\n",
       "    </tr>\n",
       "  </thead>\n",
       "  <tbody>\n",
       "    <tr>\n",
       "      <th>MLP_PERU</th>\n",
       "      <td>0.047199</td>\n",
       "      <td>1.200754e-03</td>\n",
       "    </tr>\n",
       "    <tr>\n",
       "      <th>CNN_PERU</th>\n",
       "      <td>0.061612</td>\n",
       "      <td>8.273955e-04</td>\n",
       "    </tr>\n",
       "    <tr>\n",
       "      <th>LSTM_PERU</th>\n",
       "      <td>0.051839</td>\n",
       "      <td>3.021215e-03</td>\n",
       "    </tr>\n",
       "    <tr>\n",
       "      <th>GRU_PERU</th>\n",
       "      <td>0.430047</td>\n",
       "      <td>1.026549e-01</td>\n",
       "    </tr>\n",
       "    <tr>\n",
       "      <th>MLP_PERU_FT</th>\n",
       "      <td>0.083304</td>\n",
       "      <td>7.106416e-03</td>\n",
       "    </tr>\n",
       "    <tr>\n",
       "      <th>CNN_PERU_FT</th>\n",
       "      <td>0.050847</td>\n",
       "      <td>2.847662e-17</td>\n",
       "    </tr>\n",
       "    <tr>\n",
       "      <th>LSTM_PERU_FT</th>\n",
       "      <td>0.057919</td>\n",
       "      <td>4.642436e-04</td>\n",
       "    </tr>\n",
       "    <tr>\n",
       "      <th>GRU_PERU_FT</th>\n",
       "      <td>0.081765</td>\n",
       "      <td>3.374852e-03</td>\n",
       "    </tr>\n",
       "  </tbody>\n",
       "</table>\n",
       "</div>"
      ],
      "text/plain": [
       "                     0             1\n",
       "MLP_PERU      0.047199  1.200754e-03\n",
       "CNN_PERU      0.061612  8.273955e-04\n",
       "LSTM_PERU     0.051839  3.021215e-03\n",
       "GRU_PERU      0.430047  1.026549e-01\n",
       "MLP_PERU_FT   0.083304  7.106416e-03\n",
       "CNN_PERU_FT   0.050847  2.847662e-17\n",
       "LSTM_PERU_FT  0.057919  4.642436e-04\n",
       "GRU_PERU_FT   0.081765  3.374852e-03"
      ]
     },
     "execution_count": 4,
     "metadata": {},
     "output_type": "execute_result"
    }
   ],
   "source": [
    "df_peru_1 = crearDF(res_peru_1)\n",
    "mean_peru_1 = meanDf(df_peru_1)\n",
    "mean_peru_1.T"
   ]
  },
  {
   "cell_type": "code",
   "execution_count": 17,
   "metadata": {},
   "outputs": [
    {
     "data": {
      "image/png": "[encoded data removed]",
      "text/plain": [
       "<Figure size 864x360 with 1 Axes>"
      ]
     },
     "metadata": {
      "needs_background": "light"
     },
     "output_type": "display_data"
    }
   ],
   "source": [
    "barras(df_peru_1,'Evaluación de modelos con 1 mes de anticipación')"
   ]
  },
  {
   "cell_type": "code",
   "execution_count": 6,
   "metadata": {},
   "outputs": [
    {
     "data": {
      "text/html": [
       "<div>\n",
       "<style scoped>\n",
       "    .dataframe tbody tr th:only-of-type {\n",
       "        vertical-align: middle;\n",
       "    }\n",
       "\n",
       "    .dataframe tbody tr th {\n",
       "        vertical-align: top;\n",
       "    }\n",
       "\n",
       "    .dataframe thead th {\n",
       "        text-align: right;\n",
       "    }\n",
       "</style>\n",
       "<table border=\"1\" class=\"dataframe\">\n",
       "  <thead>\n",
       "    <tr style=\"text-align: right;\">\n",
       "      <th></th>\n",
       "      <th>0</th>\n",
       "      <th>1</th>\n",
       "    </tr>\n",
       "  </thead>\n",
       "  <tbody>\n",
       "    <tr>\n",
       "      <th>MLP_PERU</th>\n",
       "      <td>0.067253</td>\n",
       "      <td>0.004091</td>\n",
       "    </tr>\n",
       "    <tr>\n",
       "      <th>CNN_PERU</th>\n",
       "      <td>0.127876</td>\n",
       "      <td>0.026646</td>\n",
       "    </tr>\n",
       "    <tr>\n",
       "      <th>LSTM_PERU</th>\n",
       "      <td>0.005556</td>\n",
       "      <td>0.024845</td>\n",
       "    </tr>\n",
       "    <tr>\n",
       "      <th>GRU_PERU</th>\n",
       "      <td>0.187879</td>\n",
       "      <td>0.061757</td>\n",
       "    </tr>\n",
       "    <tr>\n",
       "      <th>MLP_PERU_FT</th>\n",
       "      <td>0.347857</td>\n",
       "      <td>0.135643</td>\n",
       "    </tr>\n",
       "    <tr>\n",
       "      <th>CNN_PERU_FT</th>\n",
       "      <td>0.117957</td>\n",
       "      <td>0.003087</td>\n",
       "    </tr>\n",
       "    <tr>\n",
       "      <th>LSTM_PERU_FT</th>\n",
       "      <td>0.069223</td>\n",
       "      <td>0.001143</td>\n",
       "    </tr>\n",
       "    <tr>\n",
       "      <th>GRU_PERU_FT</th>\n",
       "      <td>0.048666</td>\n",
       "      <td>0.000463</td>\n",
       "    </tr>\n",
       "  </tbody>\n",
       "</table>\n",
       "</div>"
      ],
      "text/plain": [
       "                     0         1\n",
       "MLP_PERU      0.067253  0.004091\n",
       "CNN_PERU      0.127876  0.026646\n",
       "LSTM_PERU     0.005556  0.024845\n",
       "GRU_PERU      0.187879  0.061757\n",
       "MLP_PERU_FT   0.347857  0.135643\n",
       "CNN_PERU_FT   0.117957  0.003087\n",
       "LSTM_PERU_FT  0.069223  0.001143\n",
       "GRU_PERU_FT   0.048666  0.000463"
      ]
     },
     "execution_count": 6,
     "metadata": {},
     "output_type": "execute_result"
    }
   ],
   "source": [
    "df_peru_6 = crearDF(res_peru_6)\n",
    "mean_peru_6 = meanDf(df_peru_6)\n",
    "mean_peru_6.T"
   ]
  },
  {
   "cell_type": "code",
   "execution_count": 16,
   "metadata": {},
   "outputs": [
    {
     "data": {
      "image/png": "[encoded data removed]",
      "text/plain": [
       "<Figure size 864x360 with 1 Axes>"
      ]
     },
     "metadata": {
      "needs_background": "light"
     },
     "output_type": "display_data"
    }
   ],
   "source": [
    "barras(df_peru_6,'Evaluación de modelos con 6 meses de anticipación')"
   ]
  },
  {
   "cell_type": "code",
   "execution_count": 10,
   "metadata": {},
   "outputs": [
    {
     "data": {
      "text/html": [
       "<div>\n",
       "<style scoped>\n",
       "    .dataframe tbody tr th:only-of-type {\n",
       "        vertical-align: middle;\n",
       "    }\n",
       "\n",
       "    .dataframe tbody tr th {\n",
       "        vertical-align: top;\n",
       "    }\n",
       "\n",
       "    .dataframe thead th {\n",
       "        text-align: right;\n",
       "    }\n",
       "</style>\n",
       "<table border=\"1\" class=\"dataframe\">\n",
       "  <thead>\n",
       "    <tr style=\"text-align: right;\">\n",
       "      <th></th>\n",
       "      <th>0</th>\n",
       "      <th>1</th>\n",
       "    </tr>\n",
       "  </thead>\n",
       "  <tbody>\n",
       "    <tr>\n",
       "      <th>MLP_PERU</th>\n",
       "      <td>0.00000</td>\n",
       "      <td>0.00000</td>\n",
       "    </tr>\n",
       "    <tr>\n",
       "      <th>CNN_PERU</th>\n",
       "      <td>0.00125</td>\n",
       "      <td>0.00559</td>\n",
       "    </tr>\n",
       "    <tr>\n",
       "      <th>LSTM_PERU</th>\n",
       "      <td>0.00000</td>\n",
       "      <td>0.00000</td>\n",
       "    </tr>\n",
       "    <tr>\n",
       "      <th>GRU_PERU</th>\n",
       "      <td>0.00000</td>\n",
       "      <td>0.00000</td>\n",
       "    </tr>\n",
       "    <tr>\n",
       "      <th>MLP_PERU_FT</th>\n",
       "      <td>0.00000</td>\n",
       "      <td>0.00000</td>\n",
       "    </tr>\n",
       "    <tr>\n",
       "      <th>CNN_PERU_FT</th>\n",
       "      <td>0.00000</td>\n",
       "      <td>0.00000</td>\n",
       "    </tr>\n",
       "    <tr>\n",
       "      <th>LSTM_PERU_FT</th>\n",
       "      <td>0.00000</td>\n",
       "      <td>0.00000</td>\n",
       "    </tr>\n",
       "    <tr>\n",
       "      <th>GRU_PERU_FT</th>\n",
       "      <td>0.00000</td>\n",
       "      <td>0.00000</td>\n",
       "    </tr>\n",
       "  </tbody>\n",
       "</table>\n",
       "</div>"
      ],
      "text/plain": [
       "                    0        1\n",
       "MLP_PERU      0.00000  0.00000\n",
       "CNN_PERU      0.00125  0.00559\n",
       "LSTM_PERU     0.00000  0.00000\n",
       "GRU_PERU      0.00000  0.00000\n",
       "MLP_PERU_FT   0.00000  0.00000\n",
       "CNN_PERU_FT   0.00000  0.00000\n",
       "LSTM_PERU_FT  0.00000  0.00000\n",
       "GRU_PERU_FT   0.00000  0.00000"
      ]
     },
     "execution_count": 10,
     "metadata": {},
     "output_type": "execute_result"
    }
   ],
   "source": [
    "df_peru_12 = crearDF(res_peru_12)\n",
    "mean_peru_12 = meanDf(df_peru_12)\n",
    "mean_peru_12.T"
   ]
  },
  {
   "cell_type": "code",
   "execution_count": 15,
   "metadata": {},
   "outputs": [
    {
     "data": {
      "image/png": "[encoded data removed]",
      "text/plain": [
       "<Figure size 864x360 with 1 Axes>"
      ]
     },
     "metadata": {
      "needs_background": "light"
     },
     "output_type": "display_data"
    }
   ],
   "source": [
    "barras(df_peru_12,'Evaluación de modelos con 12 meses de anticipación')"
   ]
  },
  {
   "cell_type": "code",
   "execution_count": 18,
   "metadata": {},
   "outputs": [
    {
     "data": {
      "text/html": [
       "<div>\n",
       "<style scoped>\n",
       "    .dataframe tbody tr th:only-of-type {\n",
       "        vertical-align: middle;\n",
       "    }\n",
       "\n",
       "    .dataframe tbody tr th {\n",
       "        vertical-align: top;\n",
       "    }\n",
       "\n",
       "    .dataframe thead th {\n",
       "        text-align: right;\n",
       "    }\n",
       "</style>\n",
       "<table border=\"1\" class=\"dataframe\">\n",
       "  <thead>\n",
       "    <tr style=\"text-align: right;\">\n",
       "      <th></th>\n",
       "      <th>0</th>\n",
       "      <th>1</th>\n",
       "    </tr>\n",
       "  </thead>\n",
       "  <tbody>\n",
       "    <tr>\n",
       "      <th>MLP_EEUU</th>\n",
       "      <td>0.212582</td>\n",
       "      <td>0.011373</td>\n",
       "    </tr>\n",
       "    <tr>\n",
       "      <th>CNN_EEUU</th>\n",
       "      <td>0.187819</td>\n",
       "      <td>0.022498</td>\n",
       "    </tr>\n",
       "    <tr>\n",
       "      <th>LSTM_EEUU</th>\n",
       "      <td>0.187500</td>\n",
       "      <td>0.000000</td>\n",
       "    </tr>\n",
       "    <tr>\n",
       "      <th>GRU_EEUU</th>\n",
       "      <td>0.430047</td>\n",
       "      <td>0.102655</td>\n",
       "    </tr>\n",
       "  </tbody>\n",
       "</table>\n",
       "</div>"
      ],
      "text/plain": [
       "                  0         1\n",
       "MLP_EEUU   0.212582  0.011373\n",
       "CNN_EEUU   0.187819  0.022498\n",
       "LSTM_EEUU  0.187500  0.000000\n",
       "GRU_EEUU   0.430047  0.102655"
      ]
     },
     "execution_count": 18,
     "metadata": {},
     "output_type": "execute_result"
    }
   ],
   "source": [
    "df_eeuu_1 = crearDF(res_eeuu_1)\n",
    "mean_eeuu_1 = meanDf(df_eeuu_1)\n",
    "mean_eeuu_1.T"
   ]
  },
  {
   "cell_type": "code",
   "execution_count": 19,
   "metadata": {},
   "outputs": [
    {
     "data": {
      "image/png": "[encoded data removed]",
      "text/plain": [
       "<Figure size 864x360 with 1 Axes>"
      ]
     },
     "metadata": {
      "needs_background": "light"
     },
     "output_type": "display_data"
    }
   ],
   "source": [
    "barras(df_eeuu_1,'Evaluación de modelos con 1 mes de anticipación')"
   ]
  },
  {
   "cell_type": "code",
   "execution_count": 20,
   "metadata": {},
   "outputs": [
    {
     "data": {
      "text/html": [
       "<div>\n",
       "<style scoped>\n",
       "    .dataframe tbody tr th:only-of-type {\n",
       "        vertical-align: middle;\n",
       "    }\n",
       "\n",
       "    .dataframe tbody tr th {\n",
       "        vertical-align: top;\n",
       "    }\n",
       "\n",
       "    .dataframe thead th {\n",
       "        text-align: right;\n",
       "    }\n",
       "</style>\n",
       "<table border=\"1\" class=\"dataframe\">\n",
       "  <thead>\n",
       "    <tr style=\"text-align: right;\">\n",
       "      <th></th>\n",
       "      <th>0</th>\n",
       "      <th>1</th>\n",
       "    </tr>\n",
       "  </thead>\n",
       "  <tbody>\n",
       "    <tr>\n",
       "      <th>MLP_EEUU</th>\n",
       "      <td>0.229258</td>\n",
       "      <td>0.007744</td>\n",
       "    </tr>\n",
       "    <tr>\n",
       "      <th>CNN_EEUU</th>\n",
       "      <td>0.262309</td>\n",
       "      <td>0.032624</td>\n",
       "    </tr>\n",
       "    <tr>\n",
       "      <th>LSTM_EEUU</th>\n",
       "      <td>0.165183</td>\n",
       "      <td>0.029716</td>\n",
       "    </tr>\n",
       "    <tr>\n",
       "      <th>GRU_EEUU</th>\n",
       "      <td>0.187879</td>\n",
       "      <td>0.061757</td>\n",
       "    </tr>\n",
       "  </tbody>\n",
       "</table>\n",
       "</div>"
      ],
      "text/plain": [
       "                  0         1\n",
       "MLP_EEUU   0.229258  0.007744\n",
       "CNN_EEUU   0.262309  0.032624\n",
       "LSTM_EEUU  0.165183  0.029716\n",
       "GRU_EEUU   0.187879  0.061757"
      ]
     },
     "execution_count": 20,
     "metadata": {},
     "output_type": "execute_result"
    }
   ],
   "source": [
    "df_eeuu_6 = crearDF(res_eeuu_6)\n",
    "mean_eeuu_6 = meanDf(df_eeuu_6)\n",
    "mean_eeuu_6.T"
   ]
  },
  {
   "cell_type": "code",
   "execution_count": 21,
   "metadata": {},
   "outputs": [
    {
     "data": {
      "image/png": "[encoded data removed]",
      "text/plain": [
       "<Figure size 864x360 with 1 Axes>"
      ]
     },
     "metadata": {
      "needs_background": "light"
     },
     "output_type": "display_data"
    }
   ],
   "source": [
    "barras(df_eeuu_1,'Evaluación de modelos con 1 mes de anticipación')"
   ]
  },
  {
   "cell_type": "code",
   "execution_count": 22,
   "metadata": {},
   "outputs": [
    {
     "data": {
      "text/html": [
       "<div>\n",
       "<style scoped>\n",
       "    .dataframe tbody tr th:only-of-type {\n",
       "        vertical-align: middle;\n",
       "    }\n",
       "\n",
       "    .dataframe tbody tr th {\n",
       "        vertical-align: top;\n",
       "    }\n",
       "\n",
       "    .dataframe thead th {\n",
       "        text-align: right;\n",
       "    }\n",
       "</style>\n",
       "<table border=\"1\" class=\"dataframe\">\n",
       "  <thead>\n",
       "    <tr style=\"text-align: right;\">\n",
       "      <th></th>\n",
       "      <th>0</th>\n",
       "      <th>1</th>\n",
       "    </tr>\n",
       "  </thead>\n",
       "  <tbody>\n",
       "    <tr>\n",
       "      <th>MLP_EEUU</th>\n",
       "      <td>0.120926</td>\n",
       "      <td>0.008002</td>\n",
       "    </tr>\n",
       "    <tr>\n",
       "      <th>CNN_EEUU</th>\n",
       "      <td>0.037453</td>\n",
       "      <td>0.026482</td>\n",
       "    </tr>\n",
       "    <tr>\n",
       "      <th>LSTM_EEUU</th>\n",
       "      <td>0.000000</td>\n",
       "      <td>0.000000</td>\n",
       "    </tr>\n",
       "    <tr>\n",
       "      <th>GRU_EEUU</th>\n",
       "      <td>0.000000</td>\n",
       "      <td>0.000000</td>\n",
       "    </tr>\n",
       "  </tbody>\n",
       "</table>\n",
       "</div>"
      ],
      "text/plain": [
       "                  0         1\n",
       "MLP_EEUU   0.120926  0.008002\n",
       "CNN_EEUU   0.037453  0.026482\n",
       "LSTM_EEUU  0.000000  0.000000\n",
       "GRU_EEUU   0.000000  0.000000"
      ]
     },
     "execution_count": 22,
     "metadata": {},
     "output_type": "execute_result"
    }
   ],
   "source": [
    "df_eeuu_12 = crearDF(res_eeuu_12)\n",
    "mean_eeuu_12 = meanDf(df_eeuu_12)\n",
    "mean_eeuu_12.T"
   ]
  },
  {
   "cell_type": "code",
   "execution_count": 23,
   "metadata": {},
   "outputs": [
    {
     "data": {
      "image/png": "[encoded data removed]",
      "text/plain": [
       "<Figure size 864x360 with 1 Axes>"
      ]
     },
     "metadata": {
      "needs_background": "light"
     },
     "output_type": "display_data"
    }
   ],
   "source": [
    "barras(df_eeuu_12,'Evaluación de modelos con 12 meses de anticipación')"
   ]
  }
 ],
 "metadata": {
  "kernelspec": {
   "display_name": "base",
   "language": "python",
   "name": "python3"
  },
  "language_info": {
   "codemirror_mode": {
    "name": "ipython",
    "version": 3
   },
   "file_extension": ".py",
   "mimetype": "text/x-python",
   "name": "python",
   "nbconvert_exporter": "python",
   "pygments_lexer": "ipython3",
   "version": "3.8.13 (default, Mar 28 2022, 06:59:08) [MSC v.1916 64 bit (AMD64)]"
  },
  "orig_nbformat": 4,
  "vscode": {
   "interpreter": {
    "hash": "e6822839c80bb80c42f7f9e096efdd447a89633a8e8a553b5cfb2012f3a4eafe"
   }
  }
 },
 "nbformat": 4,
 "nbformat_minor": 2
}
