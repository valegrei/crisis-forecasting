{
 "cells": [
  {
   "cell_type": "code",
   "execution_count": 15,
   "metadata": {},
   "outputs": [],
   "source": [
    "import pandas as pd\n",
    "import numpy as np"
   ]
  },
  {
   "cell_type": "code",
   "execution_count": 16,
   "metadata": {},
   "outputs": [],
   "source": [
    "def text_to_date(text):\n",
    "    months = {\"Ene\": \"01\", \"Feb\": \"02\", \"Mar\":\"03\", \"Abr\": \"04\", \"May\": \"05\", \"Jun\": \"06\",\n",
    "        \"Jul\": \"07\", \"Ago\": \"08\", \"Sep\": \"09\", \"Oct\": \"10\", \"Nov\": \"11\", \"Dic\": \"12\"}\n",
    "    month = text[0:3]\n",
    "    year = text[3:5]\n",
    "    s_year = f\"20{year}\" if int(year)<=23 else f\"19{year}\"\n",
    "    return f\"{s_year}-{months[month]}-01\""
   ]
  },
  {
   "cell_type": "code",
   "execution_count": 17,
   "metadata": {},
   "outputs": [],
   "source": [
    "folder = '../data/peru/'\n",
    "df_pbi_sector = pd.read_csv(folder+'pbi_sector.csv')\n",
    "df_cotizaciones = pd.read_csv(folder+'cotizaciones.csv')\n",
    "df_empleo = pd.read_csv(folder+'empleo.csv')\n",
    "df_ingresos = pd.read_csv(folder+'ingresos.csv')\n",
    "df_ipc = pd.read_csv(folder+'ipc.csv')\n",
    "df_manufactura = pd.read_csv(folder+'manufactura.csv')\n",
    "df_coyuntura = pd.read_csv(folder+'coyuntura.csv')\n",
    "df_recesiones = pd.read_csv(folder+'recesiones.csv')"
   ]
  },
  {
   "cell_type": "code",
   "execution_count": 18,
   "metadata": {},
   "outputs": [],
   "source": [
    "df_pbi_sector.DATE = df_pbi_sector.DATE.map(text_to_date)\n",
    "df_cotizaciones.DATE = df_cotizaciones.DATE.map(text_to_date)\n",
    "df_empleo.DATE = df_empleo.DATE.map(text_to_date)\n",
    "df_ingresos.DATE = df_ingresos.DATE.map(text_to_date)\n",
    "df_ipc.DATE = df_ipc.DATE.map(text_to_date)\n",
    "df_manufactura.DATE = df_manufactura.DATE.map(text_to_date)\n",
    "df_coyuntura.DATE = df_coyuntura.DATE.map(text_to_date)"
   ]
  },
  {
   "cell_type": "code",
   "execution_count": 25,
   "metadata": {},
   "outputs": [],
   "source": [
    "#df = pd.merge(df_pbi_sector, df_cotizaciones, how='outer', left_on='DATE', right_on='DATE');\n",
    "df = pd.merge(df_ingresos, df_ipc, how='outer', left_on='DATE', right_on='DATE');\n",
    "#df = pd.merge(df, df_cotizaciones, how='outer', left_on='DATE', right_on='DATE');   #Temp\n",
    "#df = pd.merge(df, df_empleo, how='outer', left_on='DATE', right_on='DATE'); #temp\n",
    "df = pd.merge(df, df_manufactura, how='outer', left_on='DATE', right_on='DATE');\n",
    "df = pd.merge(df, df_coyuntura, how='outer', left_on='DATE', right_on='DATE');\n",
    "#df = pd.merge(df, df_pbi_sector, how='outer', left_on='DATE', right_on='DATE');\n",
    "df = pd.merge(df, df_recesiones, how='outer', left_on='DATE', right_on='DATE');\n",
    "df =df.sort_values('DATE')\n",
    "df.replace(to_replace=\"n.d.\",value=np.nan)\n",
    "df = df.dropna()\n",
    "df = df.drop(labels=['PN02020AM'],axis=1)"
   ]
  },
  {
   "cell_type": "code",
   "execution_count": 20,
   "metadata": {},
   "outputs": [
    {
     "name": "stdout",
     "output_type": "stream",
     "text": [
      "<class 'pandas.core.frame.DataFrame'>\n",
      "RangeIndex: 258 entries, 0 to 257\n",
      "Data columns (total 2 columns):\n",
      " #   Column     Non-Null Count  Dtype  \n",
      "---  ------     --------------  -----  \n",
      " 0   DATE       258 non-null    object \n",
      " 1   PN38063GM  258 non-null    float64\n",
      "dtypes: float64(1), object(1)\n",
      "memory usage: 4.2+ KB\n"
     ]
    }
   ],
   "source": [
    "df_empleo.info()"
   ]
  },
  {
   "cell_type": "code",
   "execution_count": 21,
   "metadata": {},
   "outputs": [],
   "source": [
    "#df.describe()"
   ]
  },
  {
   "cell_type": "code",
   "execution_count": 22,
   "metadata": {},
   "outputs": [],
   "source": [
    "#df.head()"
   ]
  },
  {
   "cell_type": "code",
   "execution_count": 23,
   "metadata": {},
   "outputs": [],
   "source": [
    "#df.tail()"
   ]
  },
  {
   "cell_type": "code",
   "execution_count": 26,
   "metadata": {},
   "outputs": [],
   "source": [
    "df.to_csv(folder+'PERU_DATA.csv', index=False)"
   ]
  }
 ],
 "metadata": {
  "kernelspec": {
   "display_name": "Python 3.8.13 ('base')",
   "language": "python",
   "name": "python3"
  },
  "language_info": {
   "codemirror_mode": {
    "name": "ipython",
    "version": 3
   },
   "file_extension": ".py",
   "mimetype": "text/x-python",
   "name": "python",
   "nbconvert_exporter": "python",
   "pygments_lexer": "ipython3",
   "version": "3.8.13"
  },
  "orig_nbformat": 4,
  "vscode": {
   "interpreter": {
    "hash": "e6822839c80bb80c42f7f9e096efdd447a89633a8e8a553b5cfb2012f3a4eafe"
   }
  }
 },
 "nbformat": 4,
 "nbformat_minor": 2
}
